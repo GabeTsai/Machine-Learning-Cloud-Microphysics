{
 "cells": [
  {
   "cell_type": "code",
   "execution_count": 174,
   "metadata": {},
   "outputs": [],
   "source": [
    "%matplotlib inline\n",
    "import netCDF4\n",
    "import xarray as xr\n",
    "import numpy as np\n",
    "import numpy.ma as ma\n",
    "import matplotlib.pyplot as plt\n",
    "import torch"
   ]
  },
  {
   "cell_type": "code",
   "execution_count": 237,
   "metadata": {},
   "outputs": [],
   "source": [
    "file = '/Users/HP/Documents/GitHub/Machine-Learning-Cloud-Microphysics/Data/NetCDFFiles/ena19jan2023.nc'"
   ]
  },
  {
   "cell_type": "code",
   "execution_count": 214,
   "metadata": {},
   "outputs": [],
   "source": [
    "data_folder = '/Users/HP/Documents/GitHub/Machine-Learning-Cloud-Microphysics/Data/NetCDFFiles/'"
   ]
  },
  {
   "cell_type": "code",
   "execution_count": 176,
   "metadata": {},
   "outputs": [
    {
     "name": "stdout",
     "output_type": "stream",
     "text": [
      "<class 'netCDF4._netCDF4.Dataset'>\n",
      "root group (NETCDF4 data model, file format HDF5):\n",
      "    dimensions(sizes): \n",
      "    variables(dimensions): \n",
      "    groups: reference, Surface, ScalarAdvection, ScalarDiffusion, VelocityState, ScalarState, DiagnosticState, MicroBase, DiagnosticsTurbulence, DiagnosticsClouds, DiagnosticsCase, RRTMG\n"
     ]
    }
   ],
   "source": [
    "dataset = netCDF4.Dataset(file)\n",
    "print(dataset)"
   ]
  },
  {
   "cell_type": "code",
   "execution_count": 178,
   "metadata": {},
   "outputs": [
    {
     "name": "stdout",
     "output_type": "stream",
     "text": [
      "Dimensions:  FrozenMappingWarningOnValuesAccess({'time': 721, 'z': 250, 'z_edge': 251})\n",
      "Number of variables:  124\n",
      "Variables:  Data variables:\n",
      "    cloud_frac                   (time, z) float64 1MB ...\n",
      "    core_frac                    (time, z) float64 1MB ...\n",
      "    u_core                       (time, z) float64 1MB ...\n",
      "    v_core                       (time, z) float64 1MB ...\n",
      "    w_core                       (time, z) float64 1MB ...\n",
      "    u_cloud                      (time, z) float64 1MB ...\n",
      "    v_cloud                      (time, z) float64 1MB ...\n",
      "    w_cloud                      (time, z) float64 1MB ...\n",
      "    qv_cloud                     (time, z) float64 1MB ...\n",
      "    qv_core                      (time, z) float64 1MB ...\n",
      "    qc_cloud                     (time, z) float64 1MB ...\n",
      "    qc_core                      (time, z) float64 1MB ...\n",
      "    qr_cloud                     (time, z) float64 1MB ...\n",
      "    qr_core                      (time, z) float64 1MB ...\n",
      "    qnc_cloud                    (time, z) float64 1MB ...\n",
      "    qnc_core                     (time, z) float64 1MB ...\n",
      "    qnr_cloud                    (time, z) float64 1MB ...\n",
      "    qnr_core                     (time, z) float64 1MB ...\n",
      "    qna_cloud                    (time, z) float64 1MB ...\n",
      "    qna_core                     (time, z) float64 1MB ...\n",
      "    qna_nucl_cloud               (time, z) float64 1MB ...\n",
      "    qna_nucl_core                (time, z) float64 1MB ...\n",
      "    s_cloud                      (time, z) float64 1MB ...\n",
      "    s_core                       (time, z) float64 1MB ...\n",
      "    strain_rate_mag_cloud        (time, z) float64 1MB ...\n",
      "    strain_rate_mag_core         (time, z) float64 1MB ...\n",
      "    Q_criterion_cloud            (time, z) float64 1MB ...\n",
      "    Q_criterion_core             (time, z) float64 1MB ...\n",
      "    vertical_vorticity_cloud     (time, z) float64 1MB ...\n",
      "    vertical_vorticity_core      (time, z) float64 1MB ...\n",
      "    helicity_cloud               (time, z) float64 1MB ...\n",
      "    helicity_core                (time, z) float64 1MB ...\n",
      "    grad_ri_cloud                (time, z) float64 1MB ...\n",
      "    grad_ri_core                 (time, z) float64 1MB ...\n",
      "    tke_sgs_cloud                (time, z) float64 1MB ...\n",
      "    tke_sgs_core                 (time, z) float64 1MB ...\n",
      "    eddy_viscosity_cloud         (time, z) float64 1MB ...\n",
      "    eddy_viscosity_core          (time, z) float64 1MB ...\n",
      "    MA_cloud                     (time, z) float64 1MB ...\n",
      "    MA_core                      (time, z) float64 1MB ...\n",
      "    LH_rate_cloud                (time, z) float64 1MB ...\n",
      "    LH_rate_core                 (time, z) float64 1MB ...\n",
      "    CE_rate_cloud                (time, z) float64 1MB ...\n",
      "    CE_rate_core                 (time, z) float64 1MB ...\n",
      "    CldNucl_rate_cloud           (time, z) float64 1MB ...\n",
      "    CldNucl_rate_core            (time, z) float64 1MB ...\n",
      "    saturation_cloud             (time, z) float64 1MB ...\n",
      "    saturation_core              (time, z) float64 1MB ...\n",
      "    n_reg_ccn_cloud              (time, z) float64 1MB ...\n",
      "    n_reg_ccn_core               (time, z) float64 1MB ...\n",
      "    EFFR_cloud                   (time, z) float64 1MB ...\n",
      "    EFFR_core                    (time, z) float64 1MB ...\n",
      "    c_RV_cloud                   (time, z) float64 1MB ...\n",
      "    c_RV_core                    (time, z) float64 1MB ...\n",
      "    T_sbm_in_cloud               (time, z) float64 1MB ...\n",
      "    T_sbm_in_core                (time, z) float64 1MB ...\n",
      "    qv_sbm_in_cloud              (time, z) float64 1MB ...\n",
      "    qv_sbm_in_core               (time, z) float64 1MB ...\n",
      "    qc_sbm_in_cloud              (time, z) float64 1MB ...\n",
      "    qc_sbm_in_core               (time, z) float64 1MB ...\n",
      "    qr_sbm_in_cloud              (time, z) float64 1MB ...\n",
      "    qr_sbm_in_core               (time, z) float64 1MB ...\n",
      "    qnc_sbm_in_cloud             (time, z) float64 1MB ...\n",
      "    qnc_sbm_in_core              (time, z) float64 1MB ...\n",
      "    qnr_sbm_in_cloud             (time, z) float64 1MB ...\n",
      "    qnr_sbm_in_core              (time, z) float64 1MB ...\n",
      "    qna_sbm_in_cloud             (time, z) float64 1MB ...\n",
      "    qna_sbm_in_core              (time, z) float64 1MB ...\n",
      "    qna_nucl_sbm_in_cloud        (time, z) float64 1MB ...\n",
      "    qna_nucl_sbm_in_core         (time, z) float64 1MB ...\n",
      "    liq_sed_cloud                (time, z) float64 1MB ...\n",
      "    liq_sed_core                 (time, z) float64 1MB ...\n",
      "    s_tend_liq_sed_cloud         (time, z) float64 1MB ...\n",
      "    s_tend_liq_sed_core          (time, z) float64 1MB ...\n",
      "    nc_autoconv_cloud            (time, z) float64 1MB ...\n",
      "    nc_autoconv_core             (time, z) float64 1MB ...\n",
      "    qc_autoconv_cloud            (time, z) float64 1MB ...\n",
      "    qc_autoconv_core             (time, z) float64 1MB ...\n",
      "    qr_autoconv_cloud            (time, z) float64 1MB ...\n",
      "    qr_autoconv_core             (time, z) float64 1MB ...\n",
      "    nr_autoconv_cloud            (time, z) float64 1MB ...\n",
      "    nr_autoconv_core             (time, z) float64 1MB ...\n",
      "    qv_autoconv_cloud            (time, z) float64 1MB ...\n",
      "    qv_autoconv_core             (time, z) float64 1MB ...\n",
      "    t_autoconv_cloud             (time, z) float64 1MB ...\n",
      "    t_autoconv_core              (time, z) float64 1MB ...\n",
      "    w_autoconv_cloud             (time, z) float64 1MB ...\n",
      "    w_autoconv_core              (time, z) float64 1MB ...\n",
      "    auto_cldmsink_b_cloud        (time, z) float64 1MB ...\n",
      "    auto_cldmsink_b_core         (time, z) float64 1MB ...\n",
      "    auto_cldnsink_b_cloud        (time, z) float64 1MB ...\n",
      "    auto_cldnsink_b_core         (time, z) float64 1MB ...\n",
      "    accr_cldmsink_b_cloud        (time, z) float64 1MB ...\n",
      "    accr_cldmsink_b_core         (time, z) float64 1MB ...\n",
      "    accr_cldnsink_b_cloud        (time, z) float64 1MB ...\n",
      "    accr_cldnsink_b_core         (time, z) float64 1MB ...\n",
      "    selfc_rainnchng_b_cloud      (time, z) float64 1MB ...\n",
      "    selfc_rainnchng_b_core       (time, z) float64 1MB ...\n",
      "    T_cloud                      (time, z) float64 1MB ...\n",
      "    T_core                       (time, z) float64 1MB ...\n",
      "    alpha_cloud                  (time, z) float64 1MB ...\n",
      "    alpha_core                   (time, z) float64 1MB ...\n",
      "    buoyancy_cloud               (time, z) float64 1MB ...\n",
      "    buoyancy_core                (time, z) float64 1MB ...\n",
      "    buoyancy_gradient_mag_cloud  (time, z) float64 1MB ...\n",
      "    buoyancy_gradient_mag_core   (time, z) float64 1MB ...\n",
      "    bvf_cloud                    (time, z) float64 1MB ...\n",
      "    bvf_core                     (time, z) float64 1MB ...\n",
      "    thetav_cloud                 (time, z) float64 1MB ...\n",
      "    thetav_core                  (time, z) float64 1MB ...\n",
      "    qt_cloud                     (time, z) float64 1MB ...\n",
      "    qt_core                      (time, z) float64 1MB ...\n",
      "    s_dry_cloud                  (time, z) float64 1MB ...\n",
      "    s_dry_core                   (time, z) float64 1MB ...\n",
      "    dynamic pressure_cloud       (time, z) float64 1MB ...\n",
      "    dynamic pressure_core        (time, z) float64 1MB ...\n",
      "    horizontal divergence_cloud  (time, z) float64 1MB ...\n",
      "    horizontal divergence_core   (time, z) float64 1MB ...\n",
      "    heating_rate_lw_cloud        (time, z) float64 1MB ...\n",
      "    heating_rate_lw_core         (time, z) float64 1MB ...\n",
      "    heating_rate_sw_cloud        (time, z) float64 1MB ...\n",
      "    heating_rate_sw_core         (time, z) float64 1MB ...\n",
      "    dTdt_rad_cloud               (time, z) float64 1MB ...\n",
      "    dTdt_rad_core                (time, z) float64 1MB ...\n"
     ]
    }
   ],
   "source": [
    "cloud_ds = xr.open_dataset(file, group = 'DiagnosticsClouds/profiles')\n",
    "print(\"Dimensions: \", cloud_ds.dims)\n",
    "print(\"Number of variables: \", len(cloud_ds.data_vars))\n",
    "print(\"Variables: \", cloud_ds.data_vars)"
   ]
  },
  {
   "cell_type": "code",
   "execution_count": 180,
   "metadata": {},
   "outputs": [
    {
     "name": "stdout",
     "output_type": "stream",
     "text": [
      "<xarray.DataArray 'qc_autoconv_cloud' (time: 721, z: 250)> Size: 1MB\n",
      "[180250 values with dtype=float64]\n",
      "Coordinates:\n",
      "  * time     (time) float64 6kB 0.0 60.0 120.0 ... 4.308e+04 4.314e+04 4.32e+04\n",
      "  * z        (z) float64 2kB 5.0 15.0 25.0 ... 2.475e+03 2.485e+03 2.495e+03\n",
      "Attributes:\n",
      "    long_name:      cloud water autoconversion mass cloud\n",
      "    units:          kg kg^-1\n",
      "    standard_name:  None_{cloud}\n",
      "\n",
      "<xarray.DataArray 'nc_autoconv_cloud' (time: 721, z: 250)> Size: 1MB\n",
      "[180250 values with dtype=float64]\n",
      "Coordinates:\n",
      "  * time     (time) float64 6kB 0.0 60.0 120.0 ... 4.308e+04 4.314e+04 4.32e+04\n",
      "  * z        (z) float64 2kB 5.0 15.0 25.0 ... 2.475e+03 2.485e+03 2.495e+03\n",
      "Attributes:\n",
      "    long_name:      cloud water autoconversion number cloud\n",
      "    units:          kg^-1\n",
      "    standard_name:  None_{cloud}\n",
      "\n",
      "<xarray.DataArray 'qr_autoconv_cloud' (time: 721, z: 250)> Size: 1MB\n",
      "[180250 values with dtype=float64]\n",
      "Coordinates:\n",
      "  * time     (time) float64 6kB 0.0 60.0 120.0 ... 4.308e+04 4.314e+04 4.32e+04\n",
      "  * z        (z) float64 2kB 5.0 15.0 25.0 ... 2.475e+03 2.485e+03 2.495e+03\n",
      "Attributes:\n",
      "    long_name:      rain water autoconversion mass cloud\n",
      "    units:          kg kg^-1\n",
      "    standard_name:  None_{cloud}\n",
      "\n",
      "<xarray.DataArray 'nr_autoconv_cloud' (time: 721, z: 250)> Size: 1MB\n",
      "[180250 values with dtype=float64]\n",
      "Coordinates:\n",
      "  * time     (time) float64 6kB 0.0 60.0 120.0 ... 4.308e+04 4.314e+04 4.32e+04\n",
      "  * z        (z) float64 2kB 5.0 15.0 25.0 ... 2.475e+03 2.485e+03 2.495e+03\n",
      "Attributes:\n",
      "    long_name:      rain water autoconversion number cloud\n",
      "    units:          kg^-1\n",
      "    standard_name:  None_{cloud}\n",
      "\n",
      "<xarray.DataArray 'auto_cldmsink_b_cloud' (time: 721, z: 250)> Size: 1MB\n",
      "[180250 values with dtype=float64]\n",
      "Coordinates:\n",
      "  * time     (time) float64 6kB 0.0 60.0 120.0 ... 4.308e+04 4.314e+04 4.32e+04\n",
      "  * z        (z) float64 2kB 5.0 15.0 25.0 ... 2.475e+03 2.485e+03 2.495e+03\n",
      "Attributes:\n",
      "    long_name:      autoconversion cloud mass sink cloud\n",
      "    units:          kg kg^-1 s^-1\n",
      "    standard_name:  None_{cloud}\n",
      "\n"
     ]
    }
   ],
   "source": [
    "qc_autoconv_cloud = cloud_ds['qc_autoconv_cloud']\n",
    "print(str(qc_autoconv_cloud) + '\\n')\n",
    "nc_autoconv_cloud = cloud_ds['nc_autoconv_cloud']\n",
    "print(str(nc_autoconv_cloud) + '\\n')\n",
    "qr_autoconv_cloud = cloud_ds['qr_autoconv_cloud']\n",
    "print(str(qr_autoconv_cloud) + '\\n')\n",
    "nr_autoconv_cloud = cloud_ds['nr_autoconv_cloud']\n",
    "print(str(nr_autoconv_cloud) + '\\n')\n",
    "auto_cldmsink_b_cloud = cloud_ds['auto_cldmsink_b_cloud']\n",
    "print(str(auto_cldmsink_b_cloud) + '\\n')"
   ]
  },
  {
   "cell_type": "code",
   "execution_count": 188,
   "metadata": {},
   "outputs": [],
   "source": [
    "THRESHOLD = 1e-6\n",
    "def find_nonzero_threshold(dataset, num_values):\n",
    "    index_list = []\n",
    "    for i in range(dataset.shape[1]):\n",
    "        array = dataset.isel(z = i).data\n",
    "        count = np.count_nonzero(array >= THRESHOLD)\n",
    "        if count > num_values:\n",
    "            index_list.append(i)\n",
    "    return index_list"
   ]
  },
  {
   "cell_type": "code",
   "execution_count": 189,
   "metadata": {},
   "outputs": [],
   "source": [
    "def extract_data(dataset, index_list):\n",
    "    data_list = []\n",
    "    for index in index_list:\n",
    "        data_list.append(dataset[:, index])\n",
    "    data_array = np.array(data_list)\n",
    "    return data_array"
   ]
  },
  {
   "cell_type": "code",
   "execution_count": 190,
   "metadata": {},
   "outputs": [],
   "source": [
    "def data_profile(data):\n",
    "    print(f\"Mean: {np.mean(data)}\")\n",
    "    print(f\"Variance: {np.var(data)}\")\n",
    "    print(f\"Min: {np.min(data)}\")\n",
    "    print(f\"Max: {np.max(data)}\")"
   ]
  },
  {
   "cell_type": "code",
   "execution_count": 272,
   "metadata": {},
   "outputs": [],
   "source": [
    "def min_max_normalize(data):\n",
    "    return (data - np.min(data)) / (np.max(data) - np.min(data))"
   ]
  },
  {
   "cell_type": "code",
   "execution_count": 273,
   "metadata": {},
   "outputs": [
    {
     "name": "stdout",
     "output_type": "stream",
     "text": [
      "63\n"
     ]
    }
   ],
   "source": [
    "index_list = find_nonzero_threshold(qc_autoconv_cloud, 0.75 * qc_autoconv_cloud.shape[0])\n",
    "print(len(index_list))\n",
    "def prepare_dataset(dataset, log):\n",
    "    dataset_copy = dataset.values\n",
    "    if log:\n",
    "        dataset_copy = np.log(dataset_copy, out = np.zeros_like(dataset_copy, dtype=np.float64), where = (dataset_copy > 0))\n",
    "        # dataset_copy = np.log1p(dataset_copy)\n",
    "        # dataset_copy = np.nan_to_num(dataset_copy, nan = 0)\n",
    "    data = extract_data(dataset_copy, index_list)\n",
    "    data = min_max_normalize(data)\n",
    "    return data"
   ]
  },
  {
   "cell_type": "code",
   "execution_count": 278,
   "metadata": {},
   "outputs": [
    {
     "name": "stdout",
     "output_type": "stream",
     "text": [
      "Mean: 0.14722691424792264\n",
      "Variance: 0.03097941076901359\n",
      "Min: 0.0\n",
      "Max: 1.0\n"
     ]
    }
   ],
   "source": [
    "# qc_autoconv_cloud_log = np.log(qc_autoconv_cloud_data, where = qc_autoconv_cloud_data > 0)\n",
    "qc_autoconv_cloud_norm = prepare_dataset(qc_autoconv_cloud, False)\n",
    "data_profile(qc_autoconv_cloud_norm)"
   ]
  },
  {
   "cell_type": "code",
   "execution_count": 279,
   "metadata": {},
   "outputs": [
    {
     "data": {
      "text/plain": [
       "(array([2.510e+03, 6.850e+02, 6.620e+02, 1.059e+03, 1.103e+03, 1.089e+03,\n",
       "        1.294e+03, 1.360e+03, 1.296e+03, 1.287e+03, 1.188e+03, 1.210e+03,\n",
       "        1.167e+03, 1.143e+03, 1.131e+03, 1.110e+03, 1.151e+03, 1.069e+03,\n",
       "        1.043e+03, 9.990e+02, 9.640e+02, 9.710e+02, 9.900e+02, 9.750e+02,\n",
       "        1.050e+03, 1.069e+03, 1.111e+03, 1.014e+03, 8.800e+02, 6.840e+02,\n",
       "        5.250e+02, 4.510e+02, 4.970e+02, 5.220e+02, 5.180e+02, 4.890e+02,\n",
       "        4.290e+02, 3.430e+02, 2.650e+02, 2.610e+02, 2.140e+02, 2.390e+02,\n",
       "        1.560e+02, 1.600e+02, 1.680e+02, 1.800e+02, 1.170e+02, 1.260e+02,\n",
       "        1.310e+02, 1.100e+02, 1.420e+02, 8.400e+01, 8.000e+01, 1.100e+02,\n",
       "        1.040e+02, 1.210e+02, 9.900e+01, 7.400e+01, 7.700e+01, 7.900e+01,\n",
       "        9.200e+01, 8.500e+01, 9.100e+01, 7.200e+01, 6.200e+01, 6.300e+01,\n",
       "        7.300e+01, 7.300e+01, 7.400e+01, 6.000e+01, 5.900e+01, 6.000e+01,\n",
       "        5.800e+01, 7.200e+01, 6.300e+01, 7.400e+01, 6.000e+01, 5.500e+01,\n",
       "        5.300e+01, 5.600e+01, 6.100e+01, 6.100e+01, 6.900e+01, 5.500e+01,\n",
       "        5.300e+01, 6.000e+01, 6.200e+01, 5.300e+01, 4.900e+01, 6.300e+01,\n",
       "        4.300e+01, 4.900e+01, 4.900e+01, 5.700e+01, 5.100e+01, 4.600e+01,\n",
       "        5.100e+01, 4.400e+01, 3.700e+01, 5.100e+01, 4.500e+01, 4.000e+01,\n",
       "        3.800e+01, 4.100e+01, 2.800e+01, 3.600e+01, 4.200e+01, 3.600e+01,\n",
       "        3.400e+01, 3.600e+01, 4.100e+01, 2.800e+01, 4.000e+01, 3.600e+01,\n",
       "        3.400e+01, 3.000e+01, 3.300e+01, 3.600e+01, 3.800e+01, 4.000e+01,\n",
       "        3.400e+01, 3.500e+01, 4.000e+01, 4.400e+01, 3.000e+01, 2.700e+01,\n",
       "        3.100e+01, 2.800e+01, 3.500e+01, 4.100e+01, 3.100e+01, 3.600e+01,\n",
       "        4.100e+01, 3.100e+01, 3.600e+01, 4.000e+01, 3.500e+01, 3.500e+01,\n",
       "        5.000e+01, 4.800e+01, 4.700e+01, 3.400e+01, 3.300e+01, 4.800e+01,\n",
       "        3.600e+01, 4.000e+01, 3.400e+01, 2.700e+01, 2.500e+01, 2.000e+01,\n",
       "        2.200e+01, 2.400e+01, 2.700e+01, 1.900e+01, 2.100e+01, 2.000e+01,\n",
       "        2.300e+01, 1.800e+01, 2.100e+01, 2.600e+01, 1.800e+01, 2.400e+01,\n",
       "        2.500e+01, 2.500e+01, 3.200e+01, 3.100e+01, 1.900e+01, 2.300e+01,\n",
       "        2.500e+01, 2.100e+01, 2.600e+01, 2.400e+01, 2.600e+01, 2.700e+01,\n",
       "        3.600e+01, 2.100e+01, 2.400e+01, 2.500e+01, 3.400e+01, 3.500e+01,\n",
       "        3.300e+01, 2.400e+01, 4.200e+01, 1.700e+01, 1.600e+01, 1.700e+01,\n",
       "        1.200e+01, 1.200e+01, 1.500e+01, 1.100e+01, 1.500e+01, 1.300e+01,\n",
       "        1.100e+01, 1.300e+01, 1.800e+01, 1.100e+01, 1.400e+01, 1.700e+01,\n",
       "        1.100e+01, 1.000e+00]),\n",
       " array([0.   , 0.005, 0.01 , 0.015, 0.02 , 0.025, 0.03 , 0.035, 0.04 ,\n",
       "        0.045, 0.05 , 0.055, 0.06 , 0.065, 0.07 , 0.075, 0.08 , 0.085,\n",
       "        0.09 , 0.095, 0.1  , 0.105, 0.11 , 0.115, 0.12 , 0.125, 0.13 ,\n",
       "        0.135, 0.14 , 0.145, 0.15 , 0.155, 0.16 , 0.165, 0.17 , 0.175,\n",
       "        0.18 , 0.185, 0.19 , 0.195, 0.2  , 0.205, 0.21 , 0.215, 0.22 ,\n",
       "        0.225, 0.23 , 0.235, 0.24 , 0.245, 0.25 , 0.255, 0.26 , 0.265,\n",
       "        0.27 , 0.275, 0.28 , 0.285, 0.29 , 0.295, 0.3  , 0.305, 0.31 ,\n",
       "        0.315, 0.32 , 0.325, 0.33 , 0.335, 0.34 , 0.345, 0.35 , 0.355,\n",
       "        0.36 , 0.365, 0.37 , 0.375, 0.38 , 0.385, 0.39 , 0.395, 0.4  ,\n",
       "        0.405, 0.41 , 0.415, 0.42 , 0.425, 0.43 , 0.435, 0.44 , 0.445,\n",
       "        0.45 , 0.455, 0.46 , 0.465, 0.47 , 0.475, 0.48 , 0.485, 0.49 ,\n",
       "        0.495, 0.5  , 0.505, 0.51 , 0.515, 0.52 , 0.525, 0.53 , 0.535,\n",
       "        0.54 , 0.545, 0.55 , 0.555, 0.56 , 0.565, 0.57 , 0.575, 0.58 ,\n",
       "        0.585, 0.59 , 0.595, 0.6  , 0.605, 0.61 , 0.615, 0.62 , 0.625,\n",
       "        0.63 , 0.635, 0.64 , 0.645, 0.65 , 0.655, 0.66 , 0.665, 0.67 ,\n",
       "        0.675, 0.68 , 0.685, 0.69 , 0.695, 0.7  , 0.705, 0.71 , 0.715,\n",
       "        0.72 , 0.725, 0.73 , 0.735, 0.74 , 0.745, 0.75 , 0.755, 0.76 ,\n",
       "        0.765, 0.77 , 0.775, 0.78 , 0.785, 0.79 , 0.795, 0.8  , 0.805,\n",
       "        0.81 , 0.815, 0.82 , 0.825, 0.83 , 0.835, 0.84 , 0.845, 0.85 ,\n",
       "        0.855, 0.86 , 0.865, 0.87 , 0.875, 0.88 , 0.885, 0.89 , 0.895,\n",
       "        0.9  , 0.905, 0.91 , 0.915, 0.92 , 0.925, 0.93 , 0.935, 0.94 ,\n",
       "        0.945, 0.95 , 0.955, 0.96 , 0.965, 0.97 , 0.975, 0.98 , 0.985,\n",
       "        0.99 , 0.995, 1.   ]),\n",
       " <BarContainer object of 200 artists>)"
      ]
     },
     "execution_count": 279,
     "metadata": {},
     "output_type": "execute_result"
    },
    {
     "data": {
      "image/png": "[encoded data removed]",
      "text/plain": [
       "<Figure size 640x480 with 1 Axes>"
      ]
     },
     "metadata": {},
     "output_type": "display_data"
    }
   ],
   "source": [
    "plt.hist(qc_autoconv_cloud_norm.flatten(), bins = 200)"
   ]
  },
  {
   "cell_type": "code",
   "execution_count": 250,
   "metadata": {},
   "outputs": [
    {
     "name": "stdout",
     "output_type": "stream",
     "text": [
      "[[  0.           0.           0.         ...   0.           0.\n",
      "    0.        ]\n",
      " [  0.           0.           0.         ...   0.           0.\n",
      "    0.        ]\n",
      " [  0.           0.           0.         ...   0.           0.\n",
      "    0.        ]\n",
      " ...\n",
      " [135.19825441 136.11279616 138.78879078 ...   0.           0.\n",
      "    0.        ]\n",
      " [134.28325128 134.95469763 137.27742814 ...   0.           0.\n",
      "    0.        ]\n",
      " [131.10188205 131.51498165 133.44464328 ...   0.           0.\n",
      "    0.        ]]\n"
     ]
    }
   ],
   "source": [
    "print(nc_autoconv_cloud.values)"
   ]
  },
  {
   "cell_type": "code",
   "execution_count": 251,
   "metadata": {},
   "outputs": [],
   "source": [
    "nc_autoconv_cloud = cloud_ds['nc_autoconv_cloud']"
   ]
  },
  {
   "cell_type": "code",
   "execution_count": 252,
   "metadata": {},
   "outputs": [
    {
     "name": "stdout",
     "output_type": "stream",
     "text": [
      "Mean: 1300684.5928187678\n",
      "Variance: 16746026928816.686\n",
      "Min: 0.0\n",
      "Max: 43301771.059108846\n"
     ]
    }
   ],
   "source": [
    "data_profile(nc_autoconv_cloud.values)"
   ]
  },
  {
   "cell_type": "code",
   "execution_count": 282,
   "metadata": {},
   "outputs": [
    {
     "name": "stdout",
     "output_type": "stream",
     "text": [
      "Mean: 0.11261381254014076\n",
      "Variance: 0.02615933363754023\n",
      "Min: 0.0\n",
      "Max: 1.0\n"
     ]
    }
   ],
   "source": [
    "nc_autoconv_cloud_norm = prepare_dataset(nc_autoconv_cloud, False)\n",
    "data_profile(nc_autoconv_cloud_norm)"
   ]
  },
  {
   "cell_type": "code",
   "execution_count": 283,
   "metadata": {},
   "outputs": [
    {
     "data": {
      "text/plain": [
       "(array([2.564e+03, 8.280e+02, 8.690e+02, 8.820e+02, 8.950e+02, 1.134e+03,\n",
       "        1.392e+03, 2.506e+03, 2.633e+03, 2.542e+03, 2.469e+03, 1.904e+03,\n",
       "        2.062e+03, 2.954e+03, 3.353e+03, 1.937e+03, 1.672e+03, 1.189e+03,\n",
       "        9.760e+02, 6.620e+02, 5.050e+02, 3.670e+02, 3.330e+02, 2.810e+02,\n",
       "        2.840e+02, 2.640e+02, 2.370e+02, 2.170e+02, 2.380e+02, 2.620e+02,\n",
       "        2.320e+02, 1.570e+02, 1.400e+02, 1.360e+02, 1.360e+02, 1.250e+02,\n",
       "        1.260e+02, 1.350e+02, 1.360e+02, 1.140e+02, 1.150e+02, 9.900e+01,\n",
       "        1.040e+02, 9.700e+01, 7.300e+01, 8.400e+01, 7.600e+01, 6.600e+01,\n",
       "        7.300e+01, 7.200e+01, 5.900e+01, 6.000e+01, 6.800e+01, 5.900e+01,\n",
       "        4.800e+01, 7.100e+01, 5.400e+01, 4.700e+01, 6.900e+01, 4.500e+01,\n",
       "        6.200e+01, 6.600e+01, 5.000e+01, 6.100e+01, 6.700e+01, 5.700e+01,\n",
       "        6.900e+01, 8.500e+01, 9.000e+01, 9.600e+01, 8.400e+01, 8.200e+01,\n",
       "        6.300e+01, 6.500e+01, 5.500e+01, 6.400e+01, 6.100e+01, 5.600e+01,\n",
       "        5.800e+01, 2.700e+01, 2.300e+01, 2.800e+01, 2.800e+01, 2.500e+01,\n",
       "        3.000e+01, 2.600e+01, 2.700e+01, 3.000e+01, 2.400e+01, 2.800e+01,\n",
       "        3.200e+01, 2.200e+01, 2.800e+01, 2.600e+01, 2.800e+01, 3.000e+01,\n",
       "        2.200e+01, 1.800e+01, 2.900e+01, 2.600e+01, 2.400e+01, 2.500e+01,\n",
       "        2.100e+01, 3.000e+01, 1.600e+01, 2.600e+01, 2.200e+01, 2.100e+01,\n",
       "        2.300e+01, 2.700e+01, 2.100e+01, 2.100e+01, 2.600e+01, 1.700e+01,\n",
       "        3.000e+01, 2.300e+01, 2.700e+01, 2.400e+01, 2.400e+01, 2.600e+01,\n",
       "        1.600e+01, 2.100e+01, 1.700e+01, 2.100e+01, 2.100e+01, 1.700e+01,\n",
       "        2.000e+01, 1.600e+01, 1.600e+01, 1.800e+01, 2.700e+01, 2.500e+01,\n",
       "        2.600e+01, 2.500e+01, 2.100e+01, 1.900e+01, 2.800e+01, 1.700e+01,\n",
       "        2.500e+01, 2.600e+01, 3.500e+01, 2.700e+01, 3.500e+01, 3.000e+01,\n",
       "        4.500e+01, 5.700e+01, 5.100e+01, 6.200e+01, 8.600e+01, 6.900e+01,\n",
       "        6.600e+01, 4.700e+01, 3.500e+01, 4.100e+01, 3.000e+01, 3.300e+01,\n",
       "        3.400e+01, 4.000e+01, 3.300e+01, 3.400e+01, 2.300e+01, 2.700e+01,\n",
       "        2.500e+01, 1.900e+01, 2.400e+01, 1.300e+01, 2.800e+01, 2.600e+01,\n",
       "        1.100e+01, 2.300e+01, 2.000e+01, 1.100e+01, 1.600e+01, 1.100e+01,\n",
       "        1.900e+01, 1.100e+01, 1.700e+01, 1.800e+01, 1.000e+01, 1.800e+01,\n",
       "        1.200e+01, 7.000e+00, 1.000e+01, 1.100e+01, 1.100e+01, 8.000e+00,\n",
       "        7.000e+00, 5.000e+00, 4.000e+00, 9.000e+00, 5.000e+00, 7.000e+00,\n",
       "        5.000e+00, 5.000e+00, 4.000e+00, 5.000e+00, 5.000e+00, 5.000e+00,\n",
       "        2.000e+00, 5.000e+00]),\n",
       " array([0.   , 0.005, 0.01 , 0.015, 0.02 , 0.025, 0.03 , 0.035, 0.04 ,\n",
       "        0.045, 0.05 , 0.055, 0.06 , 0.065, 0.07 , 0.075, 0.08 , 0.085,\n",
       "        0.09 , 0.095, 0.1  , 0.105, 0.11 , 0.115, 0.12 , 0.125, 0.13 ,\n",
       "        0.135, 0.14 , 0.145, 0.15 , 0.155, 0.16 , 0.165, 0.17 , 0.175,\n",
       "        0.18 , 0.185, 0.19 , 0.195, 0.2  , 0.205, 0.21 , 0.215, 0.22 ,\n",
       "        0.225, 0.23 , 0.235, 0.24 , 0.245, 0.25 , 0.255, 0.26 , 0.265,\n",
       "        0.27 , 0.275, 0.28 , 0.285, 0.29 , 0.295, 0.3  , 0.305, 0.31 ,\n",
       "        0.315, 0.32 , 0.325, 0.33 , 0.335, 0.34 , 0.345, 0.35 , 0.355,\n",
       "        0.36 , 0.365, 0.37 , 0.375, 0.38 , 0.385, 0.39 , 0.395, 0.4  ,\n",
       "        0.405, 0.41 , 0.415, 0.42 , 0.425, 0.43 , 0.435, 0.44 , 0.445,\n",
       "        0.45 , 0.455, 0.46 , 0.465, 0.47 , 0.475, 0.48 , 0.485, 0.49 ,\n",
       "        0.495, 0.5  , 0.505, 0.51 , 0.515, 0.52 , 0.525, 0.53 , 0.535,\n",
       "        0.54 , 0.545, 0.55 , 0.555, 0.56 , 0.565, 0.57 , 0.575, 0.58 ,\n",
       "        0.585, 0.59 , 0.595, 0.6  , 0.605, 0.61 , 0.615, 0.62 , 0.625,\n",
       "        0.63 , 0.635, 0.64 , 0.645, 0.65 , 0.655, 0.66 , 0.665, 0.67 ,\n",
       "        0.675, 0.68 , 0.685, 0.69 , 0.695, 0.7  , 0.705, 0.71 , 0.715,\n",
       "        0.72 , 0.725, 0.73 , 0.735, 0.74 , 0.745, 0.75 , 0.755, 0.76 ,\n",
       "        0.765, 0.77 , 0.775, 0.78 , 0.785, 0.79 , 0.795, 0.8  , 0.805,\n",
       "        0.81 , 0.815, 0.82 , 0.825, 0.83 , 0.835, 0.84 , 0.845, 0.85 ,\n",
       "        0.855, 0.86 , 0.865, 0.87 , 0.875, 0.88 , 0.885, 0.89 , 0.895,\n",
       "        0.9  , 0.905, 0.91 , 0.915, 0.92 , 0.925, 0.93 , 0.935, 0.94 ,\n",
       "        0.945, 0.95 , 0.955, 0.96 , 0.965, 0.97 , 0.975, 0.98 , 0.985,\n",
       "        0.99 , 0.995, 1.   ]),\n",
       " <BarContainer object of 200 artists>)"
      ]
     },
     "execution_count": 283,
     "metadata": {},
     "output_type": "execute_result"
    },
    {
     "data": {
      "image/png": "[encoded data removed]",
      "text/plain": [
       "<Figure size 640x480 with 1 Axes>"
      ]
     },
     "metadata": {},
     "output_type": "display_data"
    }
   ],
   "source": [
    "plt.hist(nc_autoconv_cloud_norm.flatten(), bins = 200)"
   ]
  },
  {
   "cell_type": "markdown",
   "metadata": {},
   "source": [
    "log makes nc_autoconv distribution even more skewed so that's a no go\n"
   ]
  },
  {
   "cell_type": "code",
   "execution_count": 262,
   "metadata": {},
   "outputs": [
    {
     "name": "stdout",
     "output_type": "stream",
     "text": [
      "Mean: 0.8414903491519746\n",
      "Variance: 0.0033756614214912216\n",
      "Min: 0.0\n",
      "Max: 1.0\n"
     ]
    }
   ],
   "source": [
    "qr_autoconv_cloud_norm = prepare_dataset(qr_autoconv_cloud, True)\n",
    "data_profile(qr_autoconv_cloud_norm)"
   ]
  },
  {
   "cell_type": "code",
   "execution_count": 263,
   "metadata": {},
   "outputs": [
    {
     "data": {
      "text/plain": [
       "(array([2.0000e+00, 2.0000e+00, 3.0000e+00, 0.0000e+00, 1.0000e+00,\n",
       "        1.0000e+00, 1.0000e+00, 2.0000e+00, 1.0000e+00, 0.0000e+00,\n",
       "        0.0000e+00, 1.0000e+00, 1.0000e+00, 1.0000e+00, 0.0000e+00,\n",
       "        0.0000e+00, 1.0000e+00, 0.0000e+00, 0.0000e+00, 0.0000e+00,\n",
       "        0.0000e+00, 0.0000e+00, 0.0000e+00, 1.0000e+00, 1.0000e+00,\n",
       "        2.0000e+00, 0.0000e+00, 1.0000e+00, 1.0000e+00, 2.0000e+00,\n",
       "        1.0000e+00, 1.0000e+00, 0.0000e+00, 1.0000e+00, 1.0000e+00,\n",
       "        0.0000e+00, 3.0000e+00, 1.0000e+00, 3.0000e+00, 1.0000e+00,\n",
       "        1.0000e+00, 3.0000e+00, 2.0000e+00, 1.0000e+00, 2.0000e+00,\n",
       "        2.0000e+00, 1.0000e+00, 3.0000e+00, 3.0000e+00, 4.0000e+00,\n",
       "        3.0000e+00, 1.0000e+00, 5.0000e+00, 2.0000e+00, 1.0000e+00,\n",
       "        3.0000e+00, 5.0000e+00, 3.0000e+00, 1.0000e+00, 6.0000e+00,\n",
       "        3.0000e+00, 0.0000e+00, 2.0000e+00, 8.0000e+00, 1.0000e+00,\n",
       "        1.0000e+00, 4.0000e+00, 6.0000e+00, 3.0000e+00, 5.0000e+00,\n",
       "        1.1000e+01, 3.0000e+00, 3.0000e+00, 4.0000e+00, 8.0000e+00,\n",
       "        6.0000e+00, 1.0000e+00, 8.0000e+00, 1.6000e+01, 6.0000e+00,\n",
       "        9.0000e+00, 8.0000e+00, 9.0000e+00, 9.0000e+00, 9.0000e+00,\n",
       "        1.0000e+01, 1.0000e+01, 1.5000e+01, 1.7000e+01, 1.2000e+01,\n",
       "        1.3000e+01, 2.4000e+01, 1.3000e+01, 1.1000e+01, 1.6000e+01,\n",
       "        1.6000e+01, 1.4000e+01, 7.0000e+00, 1.1000e+01, 8.0000e+00,\n",
       "        5.0000e+00, 1.1000e+01, 2.0000e+00, 6.0000e+00, 9.0000e+00,\n",
       "        3.0000e+00, 9.0000e+00, 7.0000e+00, 6.0000e+00, 1.1000e+01,\n",
       "        1.0000e+01, 8.0000e+00, 1.3000e+01, 1.7000e+01, 1.2000e+01,\n",
       "        1.6000e+01, 2.2000e+01, 1.6000e+01, 2.1000e+01, 2.2000e+01,\n",
       "        2.1000e+01, 2.0000e+01, 1.7000e+01, 1.8000e+01, 1.6000e+01,\n",
       "        2.1000e+01, 1.4000e+01, 1.6000e+01, 1.9000e+01, 2.6000e+01,\n",
       "        1.6000e+01, 1.8000e+01, 1.8000e+01, 2.5000e+01, 1.6000e+01,\n",
       "        1.7000e+01, 2.1000e+01, 3.2000e+01, 2.4000e+01, 2.7000e+01,\n",
       "        2.9000e+01, 2.7000e+01, 2.8000e+01, 3.2000e+01, 2.7000e+01,\n",
       "        3.5000e+01, 5.3000e+01, 3.6000e+01, 3.8000e+01, 5.4000e+01,\n",
       "        4.4000e+01, 5.7000e+01, 8.2000e+01, 7.7000e+01, 9.6000e+01,\n",
       "        8.3000e+01, 1.3600e+02, 1.4900e+02, 1.5800e+02, 2.2600e+02,\n",
       "        1.7700e+02, 2.8900e+02, 3.1900e+02, 5.4000e+02, 6.5600e+02,\n",
       "        9.8900e+02, 1.3430e+03, 1.7640e+03, 2.2340e+03, 4.4150e+03,\n",
       "        1.1030e+04, 1.0554e+04, 7.0920e+03, 1.3260e+03, 0.0000e+00,\n",
       "        0.0000e+00, 0.0000e+00, 0.0000e+00, 0.0000e+00, 0.0000e+00,\n",
       "        0.0000e+00, 0.0000e+00, 0.0000e+00, 0.0000e+00, 0.0000e+00,\n",
       "        0.0000e+00, 0.0000e+00, 0.0000e+00, 0.0000e+00, 0.0000e+00,\n",
       "        0.0000e+00, 0.0000e+00, 0.0000e+00, 0.0000e+00, 0.0000e+00,\n",
       "        0.0000e+00, 0.0000e+00, 0.0000e+00, 0.0000e+00, 1.7100e+02]),\n",
       " array([0.   , 0.005, 0.01 , 0.015, 0.02 , 0.025, 0.03 , 0.035, 0.04 ,\n",
       "        0.045, 0.05 , 0.055, 0.06 , 0.065, 0.07 , 0.075, 0.08 , 0.085,\n",
       "        0.09 , 0.095, 0.1  , 0.105, 0.11 , 0.115, 0.12 , 0.125, 0.13 ,\n",
       "        0.135, 0.14 , 0.145, 0.15 , 0.155, 0.16 , 0.165, 0.17 , 0.175,\n",
       "        0.18 , 0.185, 0.19 , 0.195, 0.2  , 0.205, 0.21 , 0.215, 0.22 ,\n",
       "        0.225, 0.23 , 0.235, 0.24 , 0.245, 0.25 , 0.255, 0.26 , 0.265,\n",
       "        0.27 , 0.275, 0.28 , 0.285, 0.29 , 0.295, 0.3  , 0.305, 0.31 ,\n",
       "        0.315, 0.32 , 0.325, 0.33 , 0.335, 0.34 , 0.345, 0.35 , 0.355,\n",
       "        0.36 , 0.365, 0.37 , 0.375, 0.38 , 0.385, 0.39 , 0.395, 0.4  ,\n",
       "        0.405, 0.41 , 0.415, 0.42 , 0.425, 0.43 , 0.435, 0.44 , 0.445,\n",
       "        0.45 , 0.455, 0.46 , 0.465, 0.47 , 0.475, 0.48 , 0.485, 0.49 ,\n",
       "        0.495, 0.5  , 0.505, 0.51 , 0.515, 0.52 , 0.525, 0.53 , 0.535,\n",
       "        0.54 , 0.545, 0.55 , 0.555, 0.56 , 0.565, 0.57 , 0.575, 0.58 ,\n",
       "        0.585, 0.59 , 0.595, 0.6  , 0.605, 0.61 , 0.615, 0.62 , 0.625,\n",
       "        0.63 , 0.635, 0.64 , 0.645, 0.65 , 0.655, 0.66 , 0.665, 0.67 ,\n",
       "        0.675, 0.68 , 0.685, 0.69 , 0.695, 0.7  , 0.705, 0.71 , 0.715,\n",
       "        0.72 , 0.725, 0.73 , 0.735, 0.74 , 0.745, 0.75 , 0.755, 0.76 ,\n",
       "        0.765, 0.77 , 0.775, 0.78 , 0.785, 0.79 , 0.795, 0.8  , 0.805,\n",
       "        0.81 , 0.815, 0.82 , 0.825, 0.83 , 0.835, 0.84 , 0.845, 0.85 ,\n",
       "        0.855, 0.86 , 0.865, 0.87 , 0.875, 0.88 , 0.885, 0.89 , 0.895,\n",
       "        0.9  , 0.905, 0.91 , 0.915, 0.92 , 0.925, 0.93 , 0.935, 0.94 ,\n",
       "        0.945, 0.95 , 0.955, 0.96 , 0.965, 0.97 , 0.975, 0.98 , 0.985,\n",
       "        0.99 , 0.995, 1.   ]),\n",
       " <BarContainer object of 200 artists>)"
      ]
     },
     "execution_count": 263,
     "metadata": {},
     "output_type": "execute_result"
    },
    {
     "data": {
      "image/png": "[encoded data removed]",
      "text/plain": [
       "<Figure size 640x480 with 1 Axes>"
      ]
     },
     "metadata": {},
     "output_type": "display_data"
    }
   ],
   "source": [
    "plt.hist(qr_autoconv_cloud_norm.flatten(), bins = 200, range = (0, 1))"
   ]
  },
  {
   "cell_type": "markdown",
   "metadata": {},
   "source": [
    "Very responsive to log as well, better looking distribution"
   ]
  },
  {
   "cell_type": "code",
   "execution_count": 204,
   "metadata": {},
   "outputs": [
    {
     "name": "stdout",
     "output_type": "stream",
     "text": [
      "Mean: 0.9670067164265979\n",
      "Variance: 0.004275144945934681\n",
      "Min: 0.0\n",
      "Max: 1.0\n"
     ]
    }
   ],
   "source": [
    "nr_autoconv_cloud_norm = prepare_dataset(nr_autoconv_cloud, True)\n",
    "data_profile(nr_autoconv_cloud_norm)"
   ]
  },
  {
   "cell_type": "code",
   "execution_count": 205,
   "metadata": {},
   "outputs": [
    {
     "data": {
      "text/plain": [
       "(array([  0.,   0.,   0.,   0.,   0.,   0.,   0.,   0.,   0.,   0.,   0.,\n",
       "          0.,   0.,   0.,   0.,   0.,   0.,   0.,   0.,   0.,   0.,   0.,\n",
       "          1.,   0.,   1.,   1.,   1.,   1.,   1.,   0.,   1.,   0.,   1.,\n",
       "          0.,   1.,   0.,   1.,   1.,   0.,   1.,   1.,   3.,   1.,   2.,\n",
       "          2.,   2.,   3.,   5., 580., 110.]),\n",
       " array([0.  , 0.02, 0.04, 0.06, 0.08, 0.1 , 0.12, 0.14, 0.16, 0.18, 0.2 ,\n",
       "        0.22, 0.24, 0.26, 0.28, 0.3 , 0.32, 0.34, 0.36, 0.38, 0.4 , 0.42,\n",
       "        0.44, 0.46, 0.48, 0.5 , 0.52, 0.54, 0.56, 0.58, 0.6 , 0.62, 0.64,\n",
       "        0.66, 0.68, 0.7 , 0.72, 0.74, 0.76, 0.78, 0.8 , 0.82, 0.84, 0.86,\n",
       "        0.88, 0.9 , 0.92, 0.94, 0.96, 0.98, 1.  ]),\n",
       " <BarContainer object of 50 artists>)"
      ]
     },
     "execution_count": 205,
     "metadata": {},
     "output_type": "execute_result"
    },
    {
     "data": {
      "image/png": "[encoded data removed]",
      "text/plain": [
       "<Figure size 640x480 with 1 Axes>"
      ]
     },
     "metadata": {},
     "output_type": "display_data"
    }
   ],
   "source": [
    "plt.hist(nr_autoconv_cloud_norm[10,:], bins = 50, range = (0, 1))"
   ]
  },
  {
   "cell_type": "markdown",
   "metadata": {},
   "source": [
    "responsive to log"
   ]
  },
  {
   "cell_type": "code",
   "execution_count": 333,
   "metadata": {},
   "outputs": [
    {
     "name": "stdout",
     "output_type": "stream",
     "text": [
      "Mean: 1.6418250353865698e-09\n",
      "Variance: 2.1200079122283333e-17\n",
      "Min: 0.0\n",
      "Max: 4.2126917031596454e-08\n"
     ]
    }
   ],
   "source": [
    "data_profile(auto_cldmsink_b_cloud.values)"
   ]
  },
  {
   "cell_type": "code",
   "execution_count": 334,
   "metadata": {},
   "outputs": [
    {
     "name": "stdout",
     "output_type": "stream",
     "text": [
      "Mean: 1.6418250353865698e-09\n",
      "Variance: 2.1200079122283333e-17\n",
      "Min: 0.0\n",
      "Max: 4.2126917031596454e-08\n"
     ]
    }
   ],
   "source": [
    "auto_cldmsink_b_cloud_scale = auto_cldmsink_b_cloud\n",
    "data_profile(auto_cldmsink_b_cloud_scale.values)"
   ]
  },
  {
   "cell_type": "code",
   "execution_count": 356,
   "metadata": {},
   "outputs": [],
   "source": [
    "def standardize(data):\n",
    "    return (data - np.mean(data)) / np.std(data)\n",
    "\n",
    "def prepare_dataset(dataset, log):\n",
    "    dataset_copy = dataset.values\n",
    "    if log:\n",
    "        dataset_copy = np.log(dataset_copy, out = np.zeros_like(dataset_copy, dtype=np.float64), where = (dataset_copy > 0))\n",
    "    #     # dataset_copy = np.log1p(dataset_copy)\n",
    "    # #     # dataset_copy = np.nan_to_num(dataset_copy, nan = 0)\n",
    "    data = extract_data(dataset_copy, index_list) \n",
    "    # data = standardize(data)\n",
    "    # quantile_transformer = QuantileTransformer(output_distribution='normal')\n",
    "\n",
    "    robust_scaler = RobustScaler()\n",
    "    data = robust_scaler.fit_transform(data)\n",
    "    # data = quantile_transformer.fit_transform(data.transpose())\n",
    "    return data "
   ]
  },
  {
   "cell_type": "code",
   "execution_count": 357,
   "metadata": {},
   "outputs": [
    {
     "name": "stdout",
     "output_type": "stream",
     "text": [
      "Mean: 0.10215443687059982\n",
      "Variance: 1.7600911282894216\n",
      "Min: -5.199337582605575\n",
      "Max: 5.19933758270342\n",
      "-5.199337582605575\n",
      "(721, 63)\n"
     ]
    },
    {
     "name": "stderr",
     "output_type": "stream",
     "text": [
      "/Users/HP/Documents/GitHub/Machine-Learning-Cloud-Microphysics/CloudML/lib/python3.11/site-packages/sklearn/preprocessing/_data.py:2785: UserWarning: n_quantiles (1000) is greater than the total number of samples (721). n_quantiles is set to n_samples.\n",
      "  warnings.warn(\n"
     ]
    }
   ],
   "source": [
    "auto_cldmsink_b_cloud_norm = prepare_dataset(auto_cldmsink_b_cloud, True)\n",
    "data_profile(auto_cldmsink_b_cloud_norm)\n",
    "print(np.min(auto_cldmsink_b_cloud_norm))\n",
    "print(auto_cldmsink_b_cloud_norm.shape)"
   ]
  },
  {
   "cell_type": "code",
   "execution_count": 350,
   "metadata": {},
   "outputs": [],
   "source": [
    "from sklearn.preprocessing import RobustScaler, QuantileTransformer"
   ]
  },
  {
   "cell_type": "code",
   "execution_count": 358,
   "metadata": {},
   "outputs": [
    {
     "data": {
      "text/plain": [
       "(array([  63.,    0.,    0.,    0.,    0.,    0.,    0.,    0.,    0.,\n",
       "           0.,    0.,    0.,    0.,    0.,    0.,    0.,    0.,    0.,\n",
       "           0.,    0.,    0.,    0.,    0.,    0.,    0.,    0.,    0.,\n",
       "           0.,    0.,    0.,    0.,    0.,    0.,    0.,    0.,    0.,\n",
       "           0.,    0.,    0.,    0.,    0.,    0.,   63.,    0.,    0.,\n",
       "           0.,   63.,    0.,    0.,   63.,    0.,   63.,   63.,   63.,\n",
       "           0.,   63.,  126.,   63.,   63.,  126.,  126.,  126.,  126.,\n",
       "         189.,  126.,  189.,  252.,  189.,  252.,  252.,  315.,  315.,\n",
       "         315.,  378.,  378.,  441.,  441.,  441.,  504.,  567.,  567.,\n",
       "         567.,  630.,  630.,  693.,  756.,  693.,  756.,  819.,  819.,\n",
       "         819.,  819.,  882.,  882.,  945.,  882.,  945.,  945.,  945.,\n",
       "         945.,  882.,  945.,  945.,  945.,  882.,  945.,  882.,  882.,\n",
       "         819.,  819.,  819.,  819.,  756.,  693.,  756.,  693.,  630.,\n",
       "         630.,  567.,  567.,  561.,  481.,  420.,  415.,  411.,  337.,\n",
       "         321.,  265.,  260.,  249.,  195.,  187.,  128.,  153.,  111.,\n",
       "          73.,  108.,   72.,   72.,   72.,   72.,   36.,   36.,   72.,\n",
       "          36.,    0.,   36.,   36.,   36.,    0.,   36.,    0.,    0.,\n",
       "          36.,    0.,    0.,    0.,   36.,    0.,    0.,    0.,    0.,\n",
       "           0.,    0.,    0.,    0.,    0.,    0.,    0.,    0.,    0.,\n",
       "           0.,    0.,    0.,    0.,    0.,    0.,    0.,    0.,    0.,\n",
       "           0.,    0.,    0.,    0.,    0.,    0.,    0.,    0.,    0.,\n",
       "           0.,    0.,    0.,    0.,    0.,    0.,    0.,    0.,    0.,\n",
       "           0., 1445.]),\n",
       " array([-5.19933758e+00, -5.14734421e+00, -5.09535083e+00, -5.04335746e+00,\n",
       "        -4.99136408e+00, -4.93937070e+00, -4.88737733e+00, -4.83538395e+00,\n",
       "        -4.78339058e+00, -4.73139720e+00, -4.67940382e+00, -4.62741045e+00,\n",
       "        -4.57541707e+00, -4.52342370e+00, -4.47143032e+00, -4.41943695e+00,\n",
       "        -4.36744357e+00, -4.31545019e+00, -4.26345682e+00, -4.21146344e+00,\n",
       "        -4.15947007e+00, -4.10747669e+00, -4.05548331e+00, -4.00348994e+00,\n",
       "        -3.95149656e+00, -3.89950319e+00, -3.84750981e+00, -3.79551644e+00,\n",
       "        -3.74352306e+00, -3.69152968e+00, -3.63953631e+00, -3.58754293e+00,\n",
       "        -3.53554956e+00, -3.48355618e+00, -3.43156280e+00, -3.37956943e+00,\n",
       "        -3.32757605e+00, -3.27558268e+00, -3.22358930e+00, -3.17159593e+00,\n",
       "        -3.11960255e+00, -3.06760917e+00, -3.01561580e+00, -2.96362242e+00,\n",
       "        -2.91162905e+00, -2.85963567e+00, -2.80764229e+00, -2.75564892e+00,\n",
       "        -2.70365554e+00, -2.65166217e+00, -2.59966879e+00, -2.54767542e+00,\n",
       "        -2.49568204e+00, -2.44368866e+00, -2.39169529e+00, -2.33970191e+00,\n",
       "        -2.28770854e+00, -2.23571516e+00, -2.18372178e+00, -2.13172841e+00,\n",
       "        -2.07973503e+00, -2.02774166e+00, -1.97574828e+00, -1.92375491e+00,\n",
       "        -1.87176153e+00, -1.81976815e+00, -1.76777478e+00, -1.71578140e+00,\n",
       "        -1.66378803e+00, -1.61179465e+00, -1.55980127e+00, -1.50780790e+00,\n",
       "        -1.45581452e+00, -1.40382115e+00, -1.35182777e+00, -1.29983440e+00,\n",
       "        -1.24784102e+00, -1.19584764e+00, -1.14385427e+00, -1.09186089e+00,\n",
       "        -1.03986752e+00, -9.87874141e-01, -9.35880765e-01, -8.83887389e-01,\n",
       "        -8.31894013e-01, -7.79900637e-01, -7.27907262e-01, -6.75913886e-01,\n",
       "        -6.23920510e-01, -5.71927134e-01, -5.19933758e-01, -4.67940382e-01,\n",
       "        -4.15947007e-01, -3.63953631e-01, -3.11960255e-01, -2.59966879e-01,\n",
       "        -2.07973503e-01, -1.55980127e-01, -1.03986752e-01, -5.19933758e-02,\n",
       "         4.89217555e-11,  5.19933759e-02,  1.03986752e-01,  1.55980128e-01,\n",
       "         2.07973503e-01,  2.59966879e-01,  3.11960255e-01,  3.63953631e-01,\n",
       "         4.15947007e-01,  4.67940382e-01,  5.19933758e-01,  5.71927134e-01,\n",
       "         6.23920510e-01,  6.75913886e-01,  7.27907262e-01,  7.79900637e-01,\n",
       "         8.31894013e-01,  8.83887389e-01,  9.35880765e-01,  9.87874141e-01,\n",
       "         1.03986752e+00,  1.09186089e+00,  1.14385427e+00,  1.19584764e+00,\n",
       "         1.24784102e+00,  1.29983440e+00,  1.35182777e+00,  1.40382115e+00,\n",
       "         1.45581452e+00,  1.50780790e+00,  1.55980127e+00,  1.61179465e+00,\n",
       "         1.66378803e+00,  1.71578140e+00,  1.76777478e+00,  1.81976815e+00,\n",
       "         1.87176153e+00,  1.92375491e+00,  1.97574828e+00,  2.02774166e+00,\n",
       "         2.07973503e+00,  2.13172841e+00,  2.18372178e+00,  2.23571516e+00,\n",
       "         2.28770854e+00,  2.33970191e+00,  2.39169529e+00,  2.44368866e+00,\n",
       "         2.49568204e+00,  2.54767542e+00,  2.59966879e+00,  2.65166217e+00,\n",
       "         2.70365554e+00,  2.75564892e+00,  2.80764229e+00,  2.85963567e+00,\n",
       "         2.91162905e+00,  2.96362242e+00,  3.01561580e+00,  3.06760917e+00,\n",
       "         3.11960255e+00,  3.17159593e+00,  3.22358930e+00,  3.27558268e+00,\n",
       "         3.32757605e+00,  3.37956943e+00,  3.43156280e+00,  3.48355618e+00,\n",
       "         3.53554956e+00,  3.58754293e+00,  3.63953631e+00,  3.69152968e+00,\n",
       "         3.74352306e+00,  3.79551644e+00,  3.84750981e+00,  3.89950319e+00,\n",
       "         3.95149656e+00,  4.00348994e+00,  4.05548331e+00,  4.10747669e+00,\n",
       "         4.15947007e+00,  4.21146344e+00,  4.26345682e+00,  4.31545019e+00,\n",
       "         4.36744357e+00,  4.41943695e+00,  4.47143032e+00,  4.52342370e+00,\n",
       "         4.57541707e+00,  4.62741045e+00,  4.67940382e+00,  4.73139720e+00,\n",
       "         4.78339058e+00,  4.83538395e+00,  4.88737733e+00,  4.93937070e+00,\n",
       "         4.99136408e+00,  5.04335746e+00,  5.09535083e+00,  5.14734421e+00,\n",
       "         5.19933758e+00]),\n",
       " <BarContainer object of 200 artists>)"
      ]
     },
     "execution_count": 358,
     "metadata": {},
     "output_type": "execute_result"
    },
    {
     "data": {
      "image/png": "[encoded data removed]",
      "text/plain": [
       "<Figure size 640x480 with 1 Axes>"
      ]
     },
     "metadata": {},
     "output_type": "display_data"
    }
   ],
   "source": [
    "plt.hist(auto_cldmsink_b_cloud_norm.flatten(), bins = 200)"
   ]
  },
  {
   "cell_type": "code",
   "execution_count": 211,
   "metadata": {},
   "outputs": [
    {
     "name": "stdout",
     "output_type": "stream",
     "text": [
      "<xarray.DataArray 'auto_cldmsink_b_cloud' ()> Size: 8B\n",
      "array(4.2126917e-08)\n"
     ]
    }
   ],
   "source": [
    "print(np.max(auto_cldmsink_b_cloud))"
   ]
  },
  {
   "cell_type": "code",
   "execution_count": 212,
   "metadata": {},
   "outputs": [],
   "source": [
    "cloud_ds = xr.open_dataset('/Users/HP/Documents/GitHub/Machine-Learning-Cloud-Microphysics/Data/NetCDFFiles/ena19jan2023.nc', group = 'DiagnosticsClouds/profiles')\n"
   ]
  },
  {
   "cell_type": "markdown",
   "metadata": {},
   "source": [
    "Much more responsive to log, nicer looking distribution\n"
   ]
  }
 ],
 "metadata": {
  "kernelspec": {
   "display_name": "Python 3",
   "language": "python",
   "name": "python3"
  },
  "language_info": {
   "codemirror_mode": {
    "name": "ipython",
    "version": 3
   },
   "file_extension": ".py",
   "mimetype": "text/x-python",
   "name": "python",
   "nbconvert_exporter": "python",
   "pygments_lexer": "ipython3",
   "version": "3.11.5"
  },
  "orig_nbformat": 4
 },
 "nbformat": 4,
 "nbformat_minor": 2
}
