{
 "cells": [
  {
   "cell_type": "code",
   "execution_count": 2,
   "metadata": {},
   "outputs": [],
   "source": [
    "import netCDF4\n",
    "import xarray as xr"
   ]
  },
  {
   "cell_type": "code",
   "execution_count": 3,
   "metadata": {},
   "outputs": [],
   "source": [
    "file = '/home/groups/yzwang/gabriel_files/PNNLData/dycoms_stats.nc'"
   ]
  },
  {
   "cell_type": "code",
   "execution_count": 4,
   "metadata": {},
   "outputs": [
    {
     "name": "stdout",
     "output_type": "stream",
     "text": [
      "<class 'netCDF4._netCDF4.Dataset'>\n",
      "root group (NETCDF4 data model, file format HDF5):\n",
      "    input_json: {\"damping\": {\"depth\": 500.0, \"timescale\": 60.0, \"vars\": [\"u\", \"v\", \"w\", \"s\"]}, \"fields\": {\"frequency\": 600.0, \"io_type\": \"HDF5\"}, \"grid\": {\"l\": [25600.0, 25600.0, 1500.0], \"n\": [512, 512, 150], \"n_halo\": [3, 3, 3]}, \"meta\": {\"casename\": \"dycoms\", \"output_directory\": \"/compyfs/pres026/training_data/\", \"random_seed\": 1, \"simname\": \"dycoms\", \"unique_id\": \"3b764528-2555-47a2-bf0c-286aa04f0d0c\", \"wall_time\": \"2022-02-27 02:59:58.265143\"}, \"microphysics\": {\"scheme\": \"sbm\", \"aerosol_species\": \"ammonium_bisulfate\", \"aero_sbm\": {\"ccncon\": [125, 65, 0], \"rm\": [1.1e-06, 6e-06, 3e-05], \"sig\": [1.2, 1.7, 2.7]}}, \"momentum_advection\": {\"type\": \"weno5\"}, \"radiation\": {\"type\": \"dycoms\"}, \"restart\": {\"frequency\": 1800.0, \"infile\": \"\", \"restart_portable\": false, \"restart_simulation\": false}, \"scalar_advection\": {\"type\": \"weno5\"}, \"sgs\": {\"model\": \"smagorinsky\", \"smagorinsky\": {\"cs\": 0.17, \"prt\": 0.3333333333333333}}, \"stats\": {\"frequency\": 60.0, \"modules\": []}, \"time\": {\"cfl\": 0.8, \"time_max\": 21600.0}, \"towers\": {\"frequency\": 600.0, \"location\": []}}\n",
      "    uuid: 3b764528-2555-47a2-bf0c-286aa04f0d0c\n",
      "    wall_time: 2022-02-27 02:59:58.265143\n",
      "    dimensions(sizes): \n",
      "    variables(dimensions): \n",
      "    groups: reference, Surface, ScalarAdvection, ScalarDiffusion, VelocityState, ScalarState, DiagnosticState, MicroBase, DiagnosticsTurbulence, DiagnosticsClouds, RadiationDycoms\n"
     ]
    }
   ],
   "source": [
    "dataset = netCDF4.Dataset(file)\n",
    "print(dataset)"
   ]
  },
  {
   "cell_type": "code",
   "execution_count": 6,
   "metadata": {},
   "outputs": [
    {
     "name": "stdout",
     "output_type": "stream",
     "text": [
      "<xarray.Dataset>\n",
      "Dimensions:  ()\n",
      "Data variables:\n",
      "    *empty*\n",
      "Attributes:\n",
      "    input_json:  {\"damping\": {\"depth\": 500.0, \"timescale\": 60.0, \"vars\": [\"u\"...\n",
      "    uuid:        3b764528-2555-47a2-bf0c-286aa04f0d0c\n",
      "    wall_time:   2022-02-27 02:59:58.265143\n"
     ]
    }
   ],
   "source": [
    "xr_ds = xr.open_dataset(file)\n",
    "print(xr_ds)"
   ]
  },
  {
   "cell_type": "code",
   "execution_count": null,
   "metadata": {},
   "outputs": [],
   "source": [
    "for group_name in ds.groups:\n",
    "    print()"
   ]
  }
 ],
 "metadata": {
  "kernelspec": {
   "display_name": "Python 3",
   "language": "python",
   "name": "python3"
  },
  "language_info": {
   "codemirror_mode": {
    "name": "ipython",
    "version": 3
   },
   "file_extension": ".py",
   "mimetype": "text/x-python",
   "name": "python",
   "nbconvert_exporter": "python",
   "pygments_lexer": "ipython3",
   "version": "3.6.8"
  },
  "orig_nbformat": 4
 },
 "nbformat": 4,
 "nbformat_minor": 2
}
