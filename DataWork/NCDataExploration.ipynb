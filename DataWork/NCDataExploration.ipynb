{
 "cells": [
  {
   "cell_type": "code",
   "execution_count": 2,
   "metadata": {},
   "outputs": [],
   "source": [
    "%matplotlib inline\n",
    "import netCDF4\n",
    "import xarray as xr\n",
    "import numpy as np\n",
    "import numpy.ma as ma\n",
    "import matplotlib.pyplot as plt\n",
    "import torch"
   ]
  },
  {
   "cell_type": "code",
   "execution_count": 3,
   "metadata": {},
   "outputs": [],
   "source": [
    "file = '../Data/ena25jan2023.nc'"
   ]
  },
  {
   "cell_type": "code",
   "execution_count": 4,
   "metadata": {},
   "outputs": [
    {
     "name": "stdout",
     "output_type": "stream",
     "text": [
      "<class 'netCDF4._netCDF4.Dataset'>\n",
      "root group (NETCDF4 data model, file format HDF5):\n",
      "    dimensions(sizes): \n",
      "    variables(dimensions): \n",
      "    groups: reference, Surface, ScalarAdvection, ScalarDiffusion, VelocityState, ScalarState, DiagnosticState, MicroBase, DiagnosticsTurbulence, DiagnosticsClouds, DiagnosticsCase, RRTMG\n"
     ]
    }
   ],
   "source": [
    "dataset = netCDF4.Dataset(file)\n",
    "print(dataset)"
   ]
  },
  {
   "cell_type": "code",
   "execution_count": 5,
   "metadata": {},
   "outputs": [
    {
     "name": "stdout",
     "output_type": "stream",
     "text": [
      "Group: reference\n",
      "<class 'netCDF4._netCDF4.Group'>\n",
      "group /reference:\n",
      "    dimensions(sizes): z(270), z_edge(271)\n",
      "    variables(dimensions): float64 z(z), float64 z_edge(z_edge), float64 P0(z), float64 P0_edge(z_edge), float64 T0(z), float64 T0_edge(z_edge), float64 rho0(z), float64 rho0_edge(z_edge), float64 alpha0(z), float64 alpha0_edge(z_edge), float64 exner(z), float64 exner_edge(z_edge)\n",
      "    groups: \n",
      "Group: Surface\n",
      "<class 'netCDF4._netCDF4.Group'>\n",
      "group /Surface:\n",
      "    dimensions(sizes): \n",
      "    variables(dimensions): \n",
      "    groups: timeseries, profiles\n",
      "Group: ScalarAdvection\n",
      "<class 'netCDF4._netCDF4.Group'>\n",
      "group /ScalarAdvection:\n",
      "    dimensions(sizes): \n",
      "    variables(dimensions): \n",
      "    groups: timeseries, profiles\n",
      "Group: ScalarDiffusion\n",
      "<class 'netCDF4._netCDF4.Group'>\n",
      "group /ScalarDiffusion:\n",
      "    dimensions(sizes): \n",
      "    variables(dimensions): \n",
      "    groups: timeseries, profiles\n",
      "Group: VelocityState\n",
      "<class 'netCDF4._netCDF4.Group'>\n",
      "group /VelocityState:\n",
      "    dimensions(sizes): \n",
      "    variables(dimensions): \n",
      "    groups: timeseries, profiles\n",
      "Group: ScalarState\n",
      "<class 'netCDF4._netCDF4.Group'>\n",
      "group /ScalarState:\n",
      "    dimensions(sizes): \n",
      "    variables(dimensions): \n",
      "    groups: timeseries, profiles\n",
      "Group: DiagnosticState\n",
      "<class 'netCDF4._netCDF4.Group'>\n",
      "group /DiagnosticState:\n",
      "    dimensions(sizes): \n",
      "    variables(dimensions): \n",
      "    groups: timeseries, profiles\n",
      "Group: MicroBase\n",
      "<class 'netCDF4._netCDF4.Group'>\n",
      "group /MicroBase:\n",
      "    dimensions(sizes): \n",
      "    variables(dimensions): \n",
      "    groups: timeseries, profiles\n",
      "Group: DiagnosticsTurbulence\n",
      "<class 'netCDF4._netCDF4.Group'>\n",
      "group /DiagnosticsTurbulence:\n",
      "    dimensions(sizes): \n",
      "    variables(dimensions): \n",
      "    groups: timeseries, profiles\n",
      "Group: DiagnosticsClouds\n",
      "<class 'netCDF4._netCDF4.Group'>\n",
      "group /DiagnosticsClouds:\n",
      "    dimensions(sizes): \n",
      "    variables(dimensions): \n",
      "    groups: timeseries, profiles\n",
      "Group: DiagnosticsCase\n",
      "<class 'netCDF4._netCDF4.Group'>\n",
      "group /DiagnosticsCase:\n",
      "    dimensions(sizes): \n",
      "    variables(dimensions): \n",
      "    groups: timeseries, profiles\n",
      "Group: RRTMG\n",
      "<class 'netCDF4._netCDF4.Group'>\n",
      "group /RRTMG:\n",
      "    dimensions(sizes): \n",
      "    variables(dimensions): \n",
      "    groups: timeseries, profiles\n"
     ]
    }
   ],
   "source": [
    "for group_name in dataset.groups:\n",
    "    print(f\"Group: {group_name}\")   \n",
    "    group = dataset.groups[group_name]\n",
    "    print(group)\n",
    "group_list = list(dataset.groups.keys())"
   ]
  },
  {
   "cell_type": "code",
   "execution_count": 6,
   "metadata": {},
   "outputs": [
    {
     "name": "stdout",
     "output_type": "stream",
     "text": [
      "Dimensions:  FrozenMappingWarningOnValuesAccess({'time': 721, 'z': 270, 'z_edge': 271})\n",
      "Number of variables:  124\n",
      "Variables:  Data variables:\n",
      "    cloud_frac                   (time, z) float64 2MB ...\n",
      "    core_frac                    (time, z) float64 2MB ...\n",
      "    u_core                       (time, z) float64 2MB ...\n",
      "    v_core                       (time, z) float64 2MB ...\n",
      "    w_core                       (time, z) float64 2MB ...\n",
      "    u_cloud                      (time, z) float64 2MB ...\n",
      "    v_cloud                      (time, z) float64 2MB ...\n",
      "    w_cloud                      (time, z) float64 2MB ...\n",
      "    qv_cloud                     (time, z) float64 2MB ...\n",
      "    qv_core                      (time, z) float64 2MB ...\n",
      "    qc_cloud                     (time, z) float64 2MB ...\n",
      "    qc_core                      (time, z) float64 2MB ...\n",
      "    qr_cloud                     (time, z) float64 2MB ...\n",
      "    qr_core                      (time, z) float64 2MB ...\n",
      "    qnc_cloud                    (time, z) float64 2MB ...\n",
      "    qnc_core                     (time, z) float64 2MB ...\n",
      "    qnr_cloud                    (time, z) float64 2MB ...\n",
      "    qnr_core                     (time, z) float64 2MB ...\n",
      "    qna_cloud                    (time, z) float64 2MB ...\n",
      "    qna_core                     (time, z) float64 2MB ...\n",
      "    qna_nucl_cloud               (time, z) float64 2MB ...\n",
      "    qna_nucl_core                (time, z) float64 2MB ...\n",
      "    s_cloud                      (time, z) float64 2MB ...\n",
      "    s_core                       (time, z) float64 2MB ...\n",
      "    strain_rate_mag_cloud        (time, z) float64 2MB ...\n",
      "    strain_rate_mag_core         (time, z) float64 2MB ...\n",
      "    Q_criterion_cloud            (time, z) float64 2MB ...\n",
      "    Q_criterion_core             (time, z) float64 2MB ...\n",
      "    vertical_vorticity_cloud     (time, z) float64 2MB ...\n",
      "    vertical_vorticity_core      (time, z) float64 2MB ...\n",
      "    helicity_cloud               (time, z) float64 2MB ...\n",
      "    helicity_core                (time, z) float64 2MB ...\n",
      "    grad_ri_cloud                (time, z) float64 2MB ...\n",
      "    grad_ri_core                 (time, z) float64 2MB ...\n",
      "    tke_sgs_cloud                (time, z) float64 2MB ...\n",
      "    tke_sgs_core                 (time, z) float64 2MB ...\n",
      "    eddy_viscosity_cloud         (time, z) float64 2MB ...\n",
      "    eddy_viscosity_core          (time, z) float64 2MB ...\n",
      "    MA_cloud                     (time, z) float64 2MB ...\n",
      "    MA_core                      (time, z) float64 2MB ...\n",
      "    LH_rate_cloud                (time, z) float64 2MB ...\n",
      "    LH_rate_core                 (time, z) float64 2MB ...\n",
      "    CE_rate_cloud                (time, z) float64 2MB ...\n",
      "    CE_rate_core                 (time, z) float64 2MB ...\n",
      "    CldNucl_rate_cloud           (time, z) float64 2MB ...\n",
      "    CldNucl_rate_core            (time, z) float64 2MB ...\n",
      "    saturation_cloud             (time, z) float64 2MB ...\n",
      "    saturation_core              (time, z) float64 2MB ...\n",
      "    n_reg_ccn_cloud              (time, z) float64 2MB ...\n",
      "    n_reg_ccn_core               (time, z) float64 2MB ...\n",
      "    EFFR_cloud                   (time, z) float64 2MB ...\n",
      "    EFFR_core                    (time, z) float64 2MB ...\n",
      "    c_RV_cloud                   (time, z) float64 2MB ...\n",
      "    c_RV_core                    (time, z) float64 2MB ...\n",
      "    T_sbm_in_cloud               (time, z) float64 2MB ...\n",
      "    T_sbm_in_core                (time, z) float64 2MB ...\n",
      "    qv_sbm_in_cloud              (time, z) float64 2MB ...\n",
      "    qv_sbm_in_core               (time, z) float64 2MB ...\n",
      "    qc_sbm_in_cloud              (time, z) float64 2MB ...\n",
      "    qc_sbm_in_core               (time, z) float64 2MB ...\n",
      "    qr_sbm_in_cloud              (time, z) float64 2MB ...\n",
      "    qr_sbm_in_core               (time, z) float64 2MB ...\n",
      "    qnc_sbm_in_cloud             (time, z) float64 2MB ...\n",
      "    qnc_sbm_in_core              (time, z) float64 2MB ...\n",
      "    qnr_sbm_in_cloud             (time, z) float64 2MB ...\n",
      "    qnr_sbm_in_core              (time, z) float64 2MB ...\n",
      "    qna_sbm_in_cloud             (time, z) float64 2MB ...\n",
      "    qna_sbm_in_core              (time, z) float64 2MB ...\n",
      "    qna_nucl_sbm_in_cloud        (time, z) float64 2MB ...\n",
      "    qna_nucl_sbm_in_core         (time, z) float64 2MB ...\n",
      "    liq_sed_cloud                (time, z) float64 2MB ...\n",
      "    liq_sed_core                 (time, z) float64 2MB ...\n",
      "    s_tend_liq_sed_cloud         (time, z) float64 2MB ...\n",
      "    s_tend_liq_sed_core          (time, z) float64 2MB ...\n",
      "    nc_autoconv_cloud            (time, z) float64 2MB ...\n",
      "    nc_autoconv_core             (time, z) float64 2MB ...\n",
      "    qc_autoconv_cloud            (time, z) float64 2MB ...\n",
      "    qc_autoconv_core             (time, z) float64 2MB ...\n",
      "    qr_autoconv_cloud            (time, z) float64 2MB ...\n",
      "    qr_autoconv_core             (time, z) float64 2MB ...\n",
      "    nr_autoconv_cloud            (time, z) float64 2MB ...\n",
      "    nr_autoconv_core             (time, z) float64 2MB ...\n",
      "    qv_autoconv_cloud            (time, z) float64 2MB ...\n",
      "    qv_autoconv_core             (time, z) float64 2MB ...\n",
      "    t_autoconv_cloud             (time, z) float64 2MB ...\n",
      "    t_autoconv_core              (time, z) float64 2MB ...\n",
      "    w_autoconv_cloud             (time, z) float64 2MB ...\n",
      "    w_autoconv_core              (time, z) float64 2MB ...\n",
      "    auto_cldmsink_b_cloud        (time, z) float64 2MB ...\n",
      "    auto_cldmsink_b_core         (time, z) float64 2MB ...\n",
      "    auto_cldnsink_b_cloud        (time, z) float64 2MB ...\n",
      "    auto_cldnsink_b_core         (time, z) float64 2MB ...\n",
      "    accr_cldmsink_b_cloud        (time, z) float64 2MB ...\n",
      "    accr_cldmsink_b_core         (time, z) float64 2MB ...\n",
      "    accr_cldnsink_b_cloud        (time, z) float64 2MB ...\n",
      "    accr_cldnsink_b_core         (time, z) float64 2MB ...\n",
      "    selfc_rainnchng_b_cloud      (time, z) float64 2MB ...\n",
      "    selfc_rainnchng_b_core       (time, z) float64 2MB ...\n",
      "    T_cloud                      (time, z) float64 2MB ...\n",
      "    T_core                       (time, z) float64 2MB ...\n",
      "    alpha_cloud                  (time, z) float64 2MB ...\n",
      "    alpha_core                   (time, z) float64 2MB ...\n",
      "    buoyancy_cloud               (time, z) float64 2MB ...\n",
      "    buoyancy_core                (time, z) float64 2MB ...\n",
      "    buoyancy_gradient_mag_cloud  (time, z) float64 2MB ...\n",
      "    buoyancy_gradient_mag_core   (time, z) float64 2MB ...\n",
      "    bvf_cloud                    (time, z) float64 2MB ...\n",
      "    bvf_core                     (time, z) float64 2MB ...\n",
      "    thetav_cloud                 (time, z) float64 2MB ...\n",
      "    thetav_core                  (time, z) float64 2MB ...\n",
      "    qt_cloud                     (time, z) float64 2MB ...\n",
      "    qt_core                      (time, z) float64 2MB ...\n",
      "    s_dry_cloud                  (time, z) float64 2MB ...\n",
      "    s_dry_core                   (time, z) float64 2MB ...\n",
      "    dynamic pressure_cloud       (time, z) float64 2MB ...\n",
      "    dynamic pressure_core        (time, z) float64 2MB ...\n",
      "    horizontal divergence_cloud  (time, z) float64 2MB ...\n",
      "    horizontal divergence_core   (time, z) float64 2MB ...\n",
      "    heating_rate_lw_cloud        (time, z) float64 2MB ...\n",
      "    heating_rate_lw_core         (time, z) float64 2MB ...\n",
      "    heating_rate_sw_cloud        (time, z) float64 2MB ...\n",
      "    heating_rate_sw_core         (time, z) float64 2MB ...\n",
      "    dTdt_rad_cloud               (time, z) float64 2MB ...\n",
      "    dTdt_rad_core                (time, z) float64 2MB ...\n"
     ]
    }
   ],
   "source": [
    "cloud_ds = xr.open_dataset(file, group = 'DiagnosticsClouds/profiles')\n",
    "print(\"Dimensions: \", cloud_ds.dims)\n",
    "print(\"Number of variables: \", len(cloud_ds.data_vars))\n",
    "print(\"Variables: \", cloud_ds.data_vars)"
   ]
  },
  {
   "cell_type": "code",
   "execution_count": 7,
   "metadata": {},
   "outputs": [
    {
     "name": "stdout",
     "output_type": "stream",
     "text": [
      "cloud_frac: Cloud fraction, \n",
      "core_frac: Core fraction, \n",
      "u_core: u velocity core conditional mean, m/s\n",
      "v_core: v velocity core conditional mean, m/s\n",
      "w_core: w velocity core conditional mean, m/s\n",
      "u_cloud: u velocity cloud conditional mean, m/s\n",
      "v_cloud: v velocity cloud conditional mean, m/s\n",
      "w_cloud: w velocity cloud conditional mean, m/s\n",
      "qv_cloud: None cloud, None\n",
      "qv_core: None core, None\n",
      "qc_cloud: cloud-water mixing ratio cloud, kg kg^-1\n",
      "qc_core: cloud-water mixing ratio core, kg kg^-1\n",
      "qr_cloud: rain-water mixing ratio cloud, kg kg^-1\n",
      "qr_core: rain-water mixing ratio core, kg kg^-1\n",
      "qnc_cloud: cloud droplet number concentraiton cloud, kg kg^-1\n",
      "qnc_core: cloud droplet number concentraiton core, kg kg^-1\n",
      "qnr_cloud: rain drop number concentration cloud, kg kg^-1\n",
      "qnr_core: rain drop number concentration core, kg kg^-1\n",
      "qna_cloud: aerosol number concentration cloud, kg kg^-1\n",
      "qna_core: aerosol number concentration core, kg kg^-1\n",
      "qna_nucl_cloud: regeneration aerosol number concentration cloud, kg kg^-1\n",
      "qna_nucl_core: regeneration aerosol number concentration core, kg kg^-1\n",
      "s_cloud: static energy cloud, K\n",
      "s_core: static energy core, K\n",
      "strain_rate_mag_cloud: Magnitude of strain rate tensor cloud, s^{-1}\n",
      "strain_rate_mag_core: Magnitude of strain rate tensor core, s^{-1}\n",
      "Q_criterion_cloud: Q criterion cloud, m^2 s^-2\n",
      "Q_criterion_core: Q criterion core, m^2 s^-2\n",
      "vertical_vorticity_cloud: Vertical Component of Vorticity cloud, s^{-1}\n",
      "vertical_vorticity_core: Vertical Component of Vorticity core, s^{-1}\n",
      "helicity_cloud: helicity cloud, m s^{-2}\n",
      "helicity_core: helicity core, m s^{-2}\n",
      "grad_ri_cloud: gradient Richardson cloud, [-]}\n",
      "grad_ri_core: gradient Richardson core, [-]}\n",
      "tke_sgs_cloud: Subgrid-scale turbulence kinetic energy cloud, m^2s^-2\n",
      "tke_sgs_core: Subgrid-scale turbulence kinetic energy core, m^2s^-2\n",
      "eddy_viscosity_cloud: Eddy Viscosity cloud, m^2s^-1\n",
      "eddy_viscosity_core: Eddy Viscosity core, m^2s^-1\n",
      "MA_cloud:  cloud, None\n",
      "MA_core:  core, None\n",
      "LH_rate_cloud: Latent heat rate cloud, None\n",
      "LH_rate_core: Latent heat rate core, None\n",
      "CE_rate_cloud: Condensation / evaporation rate cloud, None\n",
      "CE_rate_core: Condensation / evaporation rate core, None\n",
      "CldNucl_rate_cloud: Cloud nucleation rate cloud, None\n",
      "CldNucl_rate_core: Cloud nucleation rate core, None\n",
      "saturation_cloud: Saturaiton Ratio cloud, None\n",
      "saturation_core: Saturaiton Ratio core, None\n",
      "n_reg_ccn_cloud: Aerosol Regeneration Rate cloud, None\n",
      "n_reg_ccn_core: Aerosol Regeneration Rate core, None\n",
      "EFFR_cloud: cloud droplet effective radius cloud, None\n",
      "EFFR_core: cloud droplet effective radius core, None\n",
      "c_RV_cloud: cloud droplet mean-volume radius cloud, None\n",
      "c_RV_core: cloud droplet mean-volume radius core, None\n",
      "T_sbm_in_cloud: temperature going into sbm cloud, None\n",
      "T_sbm_in_core: temperature going into sbm core, None\n",
      "qv_sbm_in_cloud: water vapor mixing ratio going into sbm cloud, None\n",
      "qv_sbm_in_core: water vapor mixing ratio going into sbm core, None\n",
      "qc_sbm_in_cloud: cloud-water mixing ratio going into sbm cloud, None\n",
      "qc_sbm_in_core: cloud-water mixing ratio going into sbm core, None\n",
      "qr_sbm_in_cloud: rain-water mixing ratio going into sbm cloud, None\n",
      "qr_sbm_in_core: rain-water mixing ratio going into sbm core, None\n",
      "qnc_sbm_in_cloud: cloud droplet number concentraiton going into sbm cloud, None\n",
      "qnc_sbm_in_core: cloud droplet number concentraiton going into sbm core, None\n",
      "qnr_sbm_in_cloud: rain drop number concentration going into sbm cloud, None\n",
      "qnr_sbm_in_core: rain drop number concentration going into sbm core, None\n",
      "qna_sbm_in_cloud: aerosol number concentration going into sbm cloud, None\n",
      "qna_sbm_in_core: aerosol number concentration going into sbm core, None\n",
      "qna_nucl_sbm_in_cloud: regeneration aerosol number concentration going into sbm cloud, None\n",
      "qna_nucl_sbm_in_core: regeneration aerosol number concentration going into sbm core, None\n",
      "liq_sed_cloud: liquid water sedimentation cloud, kg kg^{-1} s^{-1}\n",
      "liq_sed_core: liquid water sedimentation core, kg kg^{-1} s^{-1}\n",
      "s_tend_liq_sed_cloud: s tend liquid water sedimentation cloud, \n",
      "s_tend_liq_sed_core: s tend liquid water sedimentation core, \n",
      "nc_autoconv_cloud: cloud water autoconversion number cloud, kg^-1\n",
      "nc_autoconv_core: cloud water autoconversion number core, kg^-1\n",
      "qc_autoconv_cloud: cloud water autoconversion mass cloud, kg kg^-1\n",
      "qc_autoconv_core: cloud water autoconversion mass core, kg kg^-1\n",
      "qr_autoconv_cloud: rain water autoconversion mass cloud, kg kg^-1\n",
      "qr_autoconv_core: rain water autoconversion mass core, kg kg^-1\n",
      "nr_autoconv_cloud: rain water autoconversion number cloud, kg^-1\n",
      "nr_autoconv_core: rain water autoconversion number core, kg^-1\n",
      "qv_autoconv_cloud: water vapor autoconversion mass cloud, kg kg^-1\n",
      "qv_autoconv_core: water vapor autoconversion mass core, kg kg^-1\n",
      "t_autoconv_cloud: temperature cloud, K\n",
      "t_autoconv_core: temperature core, K\n",
      "w_autoconv_cloud: autoconversion vertical velocity cloud, m s^-1\n",
      "w_autoconv_core: autoconversion vertical velocity core, m s^-1\n",
      "auto_cldmsink_b_cloud: autoconversion cloud mass sink cloud, kg kg^-1 s^-1\n",
      "auto_cldmsink_b_core: autoconversion cloud mass sink core, kg kg^-1 s^-1\n",
      "auto_cldnsink_b_cloud: autoconversion cloud number sink cloud, kg^-1 s^-1\n",
      "auto_cldnsink_b_core: autoconversion cloud number sink core, kg^-1 s^-1\n",
      "accr_cldmsink_b_cloud: accretion cloud mass sink cloud, kg kg^-1 s^-1\n",
      "accr_cldmsink_b_core: accretion cloud mass sink core, kg kg^-1 s^-1\n",
      "accr_cldnsink_b_cloud: accretion cloud number sink cloud, kg^-1 s^-1\n",
      "accr_cldnsink_b_core: accretion cloud number sink core, kg^-1 s^-1\n",
      "selfc_rainnchng_b_cloud: self-collection cloud number change cloud, kg^-1 s^-1\n",
      "selfc_rainnchng_b_core: self-collection cloud number change core, kg^-1 s^-1\n",
      "T_cloud: Temperature cloud, K\n",
      "T_core: Temperature core, K\n",
      "alpha_cloud: Specific Volume cloud, m^3 K^{-1}\n",
      "alpha_core: Specific Volume core, m^3 K^{-1}\n",
      "buoyancy_cloud: buoyancy cloud, m s^{-1}\n",
      "buoyancy_core: buoyancy core, m s^{-1}\n",
      "buoyancy_gradient_mag_cloud: buoyancy cloud, 1/s^{-2}\n",
      "buoyancy_gradient_mag_core: buoyancy core, 1/s^{-2}\n",
      "bvf_cloud: Brunt–Väisälä frequency squared cloud, s^-2\n",
      "bvf_core: Brunt–Väisälä frequency squared core, s^-2\n",
      "thetav_cloud: Virtual Potential Temperature cloud, K\n",
      "thetav_core: Virtual Potential Temperature core, K\n",
      "qt_cloud: Total water specific humidity cloud, kg/kg\n",
      "qt_core: Total water specific humidity core, kg/kg\n",
      "s_dry_cloud: Dry Static Energy cloud, K\n",
      "s_dry_core: Dry Static Energy core, K\n",
      "dynamic pressure_cloud: Dynamic Pressure cloud, Pa\n",
      "dynamic pressure_core: Dynamic Pressure core, Pa\n",
      "horizontal divergence_cloud: Horizontal Divergence cloud, kg/(m^3 s)\n",
      "horizontal divergence_core: Horizontal Divergence core, kg/(m^3 s)\n",
      "heating_rate_lw_cloud: None cloud, None\n",
      "heating_rate_lw_core: None core, None\n",
      "heating_rate_sw_cloud: None cloud, None\n",
      "heating_rate_sw_core: None core, None\n",
      "dTdt_rad_cloud: None cloud, None\n",
      "dTdt_rad_core: None core, None\n"
     ]
    }
   ],
   "source": [
    "for var in cloud_ds.data_vars:\n",
    "    print(f'{var}: {cloud_ds[var].attrs[\"long_name\"]}, {cloud_ds[var].attrs[\"units\"]}')"
   ]
  },
  {
   "cell_type": "code",
   "execution_count": 8,
   "metadata": {},
   "outputs": [
    {
     "name": "stdout",
     "output_type": "stream",
     "text": [
      "<xarray.DataArray 'qc_autoconv_cloud' (time: 721, z: 270)> Size: 2MB\n",
      "[194670 values with dtype=float64]\n",
      "Coordinates:\n",
      "  * time     (time) float64 6kB 0.0 60.0 120.0 ... 4.308e+04 4.314e+04 4.32e+04\n",
      "  * z        (z) float64 2kB 5.0 15.0 25.0 ... 2.675e+03 2.685e+03 2.695e+03\n",
      "Attributes:\n",
      "    long_name:      cloud water autoconversion mass cloud\n",
      "    units:          kg kg^-1\n",
      "    standard_name:  None_{cloud}\n",
      "\n",
      "<xarray.DataArray 'nc_autoconv_cloud' (time: 721, z: 270)> Size: 2MB\n",
      "[194670 values with dtype=float64]\n",
      "Coordinates:\n",
      "  * time     (time) float64 6kB 0.0 60.0 120.0 ... 4.308e+04 4.314e+04 4.32e+04\n",
      "  * z        (z) float64 2kB 5.0 15.0 25.0 ... 2.675e+03 2.685e+03 2.695e+03\n",
      "Attributes:\n",
      "    long_name:      cloud water autoconversion number cloud\n",
      "    units:          kg^-1\n",
      "    standard_name:  None_{cloud}\n",
      "\n",
      "<xarray.DataArray 'qr_autoconv_cloud' (time: 721, z: 270)> Size: 2MB\n",
      "[194670 values with dtype=float64]\n",
      "Coordinates:\n",
      "  * time     (time) float64 6kB 0.0 60.0 120.0 ... 4.308e+04 4.314e+04 4.32e+04\n",
      "  * z        (z) float64 2kB 5.0 15.0 25.0 ... 2.675e+03 2.685e+03 2.695e+03\n",
      "Attributes:\n",
      "    long_name:      rain water autoconversion mass cloud\n",
      "    units:          kg kg^-1\n",
      "    standard_name:  None_{cloud}\n",
      "\n",
      "<xarray.DataArray 'nr_autoconv_cloud' (time: 721, z: 270)> Size: 2MB\n",
      "[194670 values with dtype=float64]\n",
      "Coordinates:\n",
      "  * time     (time) float64 6kB 0.0 60.0 120.0 ... 4.308e+04 4.314e+04 4.32e+04\n",
      "  * z        (z) float64 2kB 5.0 15.0 25.0 ... 2.675e+03 2.685e+03 2.695e+03\n",
      "Attributes:\n",
      "    long_name:      rain water autoconversion number cloud\n",
      "    units:          kg^-1\n",
      "    standard_name:  None_{cloud}\n",
      "\n",
      "<xarray.DataArray 'auto_cldmsink_b_cloud' (time: 721, z: 270)> Size: 2MB\n",
      "[194670 values with dtype=float64]\n",
      "Coordinates:\n",
      "  * time     (time) float64 6kB 0.0 60.0 120.0 ... 4.308e+04 4.314e+04 4.32e+04\n",
      "  * z        (z) float64 2kB 5.0 15.0 25.0 ... 2.675e+03 2.685e+03 2.695e+03\n",
      "Attributes:\n",
      "    long_name:      autoconversion cloud mass sink cloud\n",
      "    units:          kg kg^-1 s^-1\n",
      "    standard_name:  None_{cloud}\n",
      "\n"
     ]
    }
   ],
   "source": [
    "qc_autoconv_cloud = cloud_ds['qc_autoconv_cloud']\n",
    "print(str(qc_autoconv_cloud) + '\\n')\n",
    "nc_autoconv_cloud = cloud_ds['nc_autoconv_cloud']\n",
    "print(str(nc_autoconv_cloud) + '\\n')\n",
    "qr_autoconv_cloud = cloud_ds['qr_autoconv_cloud']\n",
    "print(str(qr_autoconv_cloud) + '\\n')\n",
    "nr_autoconv_cloud = cloud_ds['nr_autoconv_cloud']\n",
    "print(str(nr_autoconv_cloud) + '\\n')\n",
    "auto_cldmsink_b_cloud = cloud_ds['auto_cldmsink_b_cloud']\n",
    "print(str(auto_cldmsink_b_cloud) + '\\n')"
   ]
  },
  {
   "cell_type": "code",
   "execution_count": 9,
   "metadata": {},
   "outputs": [
    {
     "data": {
      "text/plain": [
       "(721, 270)"
      ]
     },
     "execution_count": 9,
     "metadata": {},
     "output_type": "execute_result"
    }
   ],
   "source": [
    "qc_autoconv_cloud.shape #(time, height)"
   ]
  },
  {
   "cell_type": "code",
   "execution_count": 10,
   "metadata": {},
   "outputs": [
    {
     "data": {
      "text/plain": [
       "array([    0.,    60.,   120.,   180.,   240.,   300.,   360.,   420.,\n",
       "         480.,   540.,   600.,   660.,   720.,   780.,   840.,   900.,\n",
       "         960.,  1020.,  1080.,  1140.,  1200.,  1260.,  1320.,  1380.,\n",
       "        1440.,  1500.,  1560.,  1620.,  1680.,  1740.,  1800.,  1860.,\n",
       "        1920.,  1980.,  2040.,  2100.,  2160.,  2220.,  2280.,  2340.,\n",
       "        2400.,  2460.,  2520.,  2580.,  2640.,  2700.,  2760.,  2820.,\n",
       "        2880.,  2940.,  3000.,  3060.,  3120.,  3180.,  3240.,  3300.,\n",
       "        3360.,  3420.,  3480.,  3540.,  3600.,  3660.,  3720.,  3780.,\n",
       "        3840.,  3900.,  3960.,  4020.,  4080.,  4140.,  4200.,  4260.,\n",
       "        4320.,  4380.,  4440.,  4500.,  4560.,  4620.,  4680.,  4740.,\n",
       "        4800.,  4860.,  4920.,  4980.,  5040.,  5100.,  5160.,  5220.,\n",
       "        5280.,  5340.,  5400.,  5460.,  5520.,  5580.,  5640.,  5700.,\n",
       "        5760.,  5820.,  5880.,  5940.,  6000.,  6060.,  6120.,  6180.,\n",
       "        6240.,  6300.,  6360.,  6420.,  6480.,  6540.,  6600.,  6660.,\n",
       "        6720.,  6780.,  6840.,  6900.,  6960.,  7020.,  7080.,  7140.,\n",
       "        7200.,  7260.,  7320.,  7380.,  7440.,  7500.,  7560.,  7620.,\n",
       "        7680.,  7740.,  7800.,  7860.,  7920.,  7980.,  8040.,  8100.,\n",
       "        8160.,  8220.,  8280.,  8340.,  8400.,  8460.,  8520.,  8580.,\n",
       "        8640.,  8700.,  8760.,  8820.,  8880.,  8940.,  9000.,  9060.,\n",
       "        9120.,  9180.,  9240.,  9300.,  9360.,  9420.,  9480.,  9540.,\n",
       "        9600.,  9660.,  9720.,  9780.,  9840.,  9900.,  9960., 10020.,\n",
       "       10080., 10140., 10200., 10260., 10320., 10380., 10440., 10500.,\n",
       "       10560., 10620., 10680., 10740., 10800., 10860., 10920., 10980.,\n",
       "       11040., 11100., 11160., 11220., 11280., 11340., 11400., 11460.,\n",
       "       11520., 11580., 11640., 11700., 11760., 11820., 11880., 11940.,\n",
       "       12000., 12060., 12120., 12180., 12240., 12300., 12360., 12420.,\n",
       "       12480., 12540., 12600., 12660., 12720., 12780., 12840., 12900.,\n",
       "       12960., 13020., 13080., 13140., 13200., 13260., 13320., 13380.,\n",
       "       13440., 13500., 13560., 13620., 13680., 13740., 13800., 13860.,\n",
       "       13920., 13980., 14040., 14100., 14160., 14220., 14280., 14340.,\n",
       "       14400., 14460., 14520., 14580., 14640., 14700., 14760., 14820.,\n",
       "       14880., 14940., 15000., 15060., 15120., 15180., 15240., 15300.,\n",
       "       15360., 15420., 15480., 15540., 15600., 15660., 15720., 15780.,\n",
       "       15840., 15900., 15960., 16020., 16080., 16140., 16200., 16260.,\n",
       "       16320., 16380., 16440., 16500., 16560., 16620., 16680., 16740.,\n",
       "       16800., 16860., 16920., 16980., 17040., 17100., 17160., 17220.,\n",
       "       17280., 17340., 17400., 17460., 17520., 17580., 17640., 17700.,\n",
       "       17760., 17820., 17880., 17940., 18000., 18060., 18120., 18180.,\n",
       "       18240., 18300., 18360., 18420., 18480., 18540., 18600., 18660.,\n",
       "       18720., 18780., 18840., 18900., 18960., 19020., 19080., 19140.,\n",
       "       19200., 19260., 19320., 19380., 19440., 19500., 19560., 19620.,\n",
       "       19680., 19740., 19800., 19860., 19920., 19980., 20040., 20100.,\n",
       "       20160., 20220., 20280., 20340., 20400., 20460., 20520., 20580.,\n",
       "       20640., 20700., 20760., 20820., 20880., 20940., 21000., 21060.,\n",
       "       21120., 21180., 21240., 21300., 21360., 21420., 21480., 21540.,\n",
       "       21600., 21660., 21720., 21780., 21840., 21900., 21960., 22020.,\n",
       "       22080., 22140., 22200., 22260., 22320., 22380., 22440., 22500.,\n",
       "       22560., 22620., 22680., 22740., 22800., 22860., 22920., 22980.,\n",
       "       23040., 23100., 23160., 23220., 23280., 23340., 23400., 23460.,\n",
       "       23520., 23580., 23640., 23700., 23760., 23820., 23880., 23940.,\n",
       "       24000., 24060., 24120., 24180., 24240., 24300., 24360., 24420.,\n",
       "       24480., 24540., 24600., 24660., 24720., 24780., 24840., 24900.,\n",
       "       24960., 25020., 25080., 25140., 25200., 25260., 25320., 25380.,\n",
       "       25440., 25500., 25560., 25620., 25680., 25740., 25800., 25860.,\n",
       "       25920., 25980., 26040., 26100., 26160., 26220., 26280., 26340.,\n",
       "       26400., 26460., 26520., 26580., 26640., 26700., 26760., 26820.,\n",
       "       26880., 26940., 27000., 27060., 27120., 27180., 27240., 27300.,\n",
       "       27360., 27420., 27480., 27540., 27600., 27660., 27720., 27780.,\n",
       "       27840., 27900., 27960., 28020., 28080., 28140., 28200., 28260.,\n",
       "       28320., 28380., 28440., 28500., 28560., 28620., 28680., 28740.,\n",
       "       28800., 28860., 28920., 28980., 29040., 29100., 29160., 29220.,\n",
       "       29280., 29340., 29400., 29460., 29520., 29580., 29640., 29700.,\n",
       "       29760., 29820., 29880., 29940., 30000., 30060., 30120., 30180.,\n",
       "       30240., 30300., 30360., 30420., 30480., 30540., 30600., 30660.,\n",
       "       30720., 30780., 30840., 30900., 30960., 31020., 31080., 31140.,\n",
       "       31200., 31260., 31320., 31380., 31440., 31500., 31560., 31620.,\n",
       "       31680., 31740., 31800., 31860., 31920., 31980., 32040., 32100.,\n",
       "       32160., 32220., 32280., 32340., 32400., 32460., 32520., 32580.,\n",
       "       32640., 32700., 32760., 32820., 32880., 32940., 33000., 33060.,\n",
       "       33120., 33180., 33240., 33300., 33360., 33420., 33480., 33540.,\n",
       "       33600., 33660., 33720., 33780., 33840., 33900., 33960., 34020.,\n",
       "       34080., 34140., 34200., 34260., 34320., 34380., 34440., 34500.,\n",
       "       34560., 34620., 34680., 34740., 34800., 34860., 34920., 34980.,\n",
       "       35040., 35100., 35160., 35220., 35280., 35340., 35400., 35460.,\n",
       "       35520., 35580., 35640., 35700., 35760., 35820., 35880., 35940.,\n",
       "       36000., 36060., 36120., 36180., 36240., 36300., 36360., 36420.,\n",
       "       36480., 36540., 36600., 36660., 36720., 36780., 36840., 36900.,\n",
       "       36960., 37020., 37080., 37140., 37200., 37260., 37320., 37380.,\n",
       "       37440., 37500., 37560., 37620., 37680., 37740., 37800., 37860.,\n",
       "       37920., 37980., 38040., 38100., 38160., 38220., 38280., 38340.,\n",
       "       38400., 38460., 38520., 38580., 38640., 38700., 38760., 38820.,\n",
       "       38880., 38940., 39000., 39060., 39120., 39180., 39240., 39300.,\n",
       "       39360., 39420., 39480., 39540., 39600., 39660., 39720., 39780.,\n",
       "       39840., 39900., 39960., 40020., 40080., 40140., 40200., 40260.,\n",
       "       40320., 40380., 40440., 40500., 40560., 40620., 40680., 40740.,\n",
       "       40800., 40860., 40920., 40980., 41040., 41100., 41160., 41220.,\n",
       "       41280., 41340., 41400., 41460., 41520., 41580., 41640., 41700.,\n",
       "       41760., 41820., 41880., 41940., 42000., 42060., 42120., 42180.,\n",
       "       42240., 42300., 42360., 42420., 42480., 42540., 42600., 42660.,\n",
       "       42720., 42780., 42840., 42900., 42960., 43020., 43080., 43140.,\n",
       "       43200.])"
      ]
     },
     "execution_count": 10,
     "metadata": {},
     "output_type": "execute_result"
    }
   ],
   "source": [
    "qc_autoconv_cloud.time.values"
   ]
  },
  {
   "cell_type": "code",
   "execution_count": 11,
   "metadata": {},
   "outputs": [],
   "source": [
    "def plot_time_series_height(data, height_index):\n",
    "    data_height = data.isel(z = height_index)\n",
    "    plt.figure()\n",
    "    data_height.plot()\n",
    "    plt.title(f'{data.long_name} at Height Level {height_index} (z={data.coords[\"z\"].values[height_index]} m)')\n",
    "    plt.xlabel('Time (s)')\n",
    "    plt.ylabel(f'{data.units}')\n",
    "    plt.show()"
   ]
  },
  {
   "cell_type": "code",
   "execution_count": 12,
   "metadata": {},
   "outputs": [
    {
     "data": {
      "image/png": "[encoded data removed]",
      "text/plain": [
       "<Figure size 640x480 with 1 Axes>"
      ]
     },
     "metadata": {},
     "output_type": "display_data"
    }
   ],
   "source": [
    "plot_time_series_height(nr_autoconv_cloud, 120)"
   ]
  },
  {
   "cell_type": "code",
   "execution_count": 13,
   "metadata": {},
   "outputs": [
    {
     "name": "stdout",
     "output_type": "stream",
     "text": [
      "No profiles in group:  reference\n",
      "Group name:  Surface\n",
      "\n",
      "\n",
      "Group name:  ScalarAdvection\n",
      "wqv_resolved: Resolved flux of qv, m s^{-1} None\n",
      "wqc_resolved: Resolved flux of qc, m s^{-1} kg kg^-1\n",
      "wqr_resolved: Resolved flux of qr, m s^{-1} kg kg^-1\n",
      "wqnc_resolved: Resolved flux of qnc, m s^{-1} kg kg^-1\n",
      "wqnr_resolved: Resolved flux of qnr, m s^{-1} kg kg^-1\n",
      "wqna_resolved: Resolved flux of qna, m s^{-1} kg kg^-1\n",
      "wqna_nucl_resolved: Resolved flux of qna_nucl, m s^{-1} kg kg^-1\n",
      "ws_resolved: Resolved flux of s, m s^{-1} K\n",
      "wT_resolved: Resolved flux of temperature, m s^{-1} K\n",
      "wthetali_resolved: Resolved flux of liquid-ice potential temperature, m s^{-1} K\n",
      "\n",
      "\n",
      "Group name:  ScalarDiffusion\n",
      "wqv_sgs: SGS flux of qv, m s^{-1} None\n",
      "wqc_sgs: SGS flux of qc, m s^{-1} kg kg^-1\n",
      "wqr_sgs: SGS flux of qr, m s^{-1} kg kg^-1\n",
      "wqnc_sgs: SGS flux of qnc, m s^{-1} kg kg^-1\n",
      "wqnr_sgs: SGS flux of qnr, m s^{-1} kg kg^-1\n",
      "wqna_sgs: SGS flux of qna, m s^{-1} kg kg^-1\n",
      "wqna_nucl_sgs: SGS flux of qna_nucl, m s^{-1} kg kg^-1\n",
      "ws_sgs: SGS flux of s, m s^{-1} K\n",
      "wT_sgs: SGS flux of temperature, m s^{-1} K\n",
      "wthetali_sgs: SGS flux of liquid-ice potential temperature, m s^{-1} K\n",
      "\n",
      "\n",
      "Group name:  VelocityState\n",
      "u: u velocity component, m/s\n",
      "u_squared: u velocity component mean of squared, {m/s}^2\n",
      "u_min: minimum u velocity component, m/s\n",
      "u_max: maximum u velocity component, m/s\n",
      "v: v velocity component, m/s\n",
      "v_squared: v velocity component mean of squared, {m/s}^2\n",
      "v_min: minimum v velocity component, m/s\n",
      "v_max: maximum v velocity component, m/s\n",
      "w: w velocity component, m/s\n",
      "w_squared: w velocity component mean of squared, {m/s}^2\n",
      "w_min: minimum w velocity component, m/s\n",
      "w_max: maximum w velocity component, m/s\n",
      "\n",
      "\n",
      "Group name:  ScalarState\n",
      "qv: None, None\n",
      "qv_squared: None mean of squared, {None}^2\n",
      "qv_min: minimum None, None\n",
      "qv_max: maximum None, None\n",
      "qc: cloud-water mixing ratio, kg kg^-1\n",
      "qc_squared: cloud-water mixing ratio mean of squared, {kg kg^-1}^2\n",
      "qc_min: minimum cloud-water mixing ratio, kg kg^-1\n",
      "qc_max: maximum cloud-water mixing ratio, kg kg^-1\n",
      "qr: rain-water mixing ratio, kg kg^-1\n",
      "qr_squared: rain-water mixing ratio mean of squared, {kg kg^-1}^2\n",
      "qr_min: minimum rain-water mixing ratio, kg kg^-1\n",
      "qr_max: maximum rain-water mixing ratio, kg kg^-1\n",
      "qnc: cloud droplet number concentraiton, kg kg^-1\n",
      "qnc_squared: cloud droplet number concentraiton mean of squared, {kg kg^-1}^2\n",
      "qnc_min: minimum cloud droplet number concentraiton, kg kg^-1\n",
      "qnc_max: maximum cloud droplet number concentraiton, kg kg^-1\n",
      "qnr: rain drop number concentration, kg kg^-1\n",
      "qnr_squared: rain drop number concentration mean of squared, {kg kg^-1}^2\n",
      "qnr_min: minimum rain drop number concentration, kg kg^-1\n",
      "qnr_max: maximum rain drop number concentration, kg kg^-1\n",
      "qna: aerosol number concentration, kg kg^-1\n",
      "qna_squared: aerosol number concentration mean of squared, {kg kg^-1}^2\n",
      "qna_min: minimum aerosol number concentration, kg kg^-1\n",
      "qna_max: maximum aerosol number concentration, kg kg^-1\n",
      "qna_nucl: regeneration aerosol number concentration, kg kg^-1\n",
      "qna_nucl_squared: regeneration aerosol number concentration mean of squared, {kg kg^-1}^2\n",
      "qna_nucl_min: minimum regeneration aerosol number concentration, kg kg^-1\n",
      "qna_nucl_max: maximum regeneration aerosol number concentration, kg kg^-1\n",
      "s: static energy, K\n",
      "s_squared: static energy mean of squared, {K}^2\n",
      "s_min: minimum static energy, K\n",
      "s_max: maximum static energy, K\n",
      "\n",
      "\n",
      "Group name:  DiagnosticState\n",
      "strain_rate_mag: Magnitude of strain rate tensor, s^{-1}\n",
      "strain_rate_mag_squared: Magnitude of strain rate tensor mean of squared, {s^{-1}}^2\n",
      "strain_rate_mag_min: minimum Magnitude of strain rate tensor, s^{-1}\n",
      "strain_rate_mag_max: maximum Magnitude of strain rate tensor, s^{-1}\n",
      "Q_criterion: Q criterion, m^2 s^-2\n",
      "Q_criterion_squared: Q criterion mean of squared, {m^2 s^-2}^2\n",
      "Q_criterion_min: minimum Q criterion, m^2 s^-2\n",
      "Q_criterion_max: maximum Q criterion, m^2 s^-2\n",
      "vertical_vorticity: Vertical Component of Vorticity, s^{-1}\n",
      "vertical_vorticity_squared: Vertical Component of Vorticity mean of squared, {s^{-1}}^2\n",
      "vertical_vorticity_min: minimum Vertical Component of Vorticity, s^{-1}\n",
      "vertical_vorticity_max: maximum Vertical Component of Vorticity, s^{-1}\n",
      "helicity: helicity, m s^{-2}\n",
      "helicity_squared: helicity mean of squared, {m s^{-2}}^2\n",
      "helicity_min: minimum helicity, m s^{-2}\n",
      "helicity_max: maximum helicity, m s^{-2}\n",
      "grad_ri: gradient Richardson, [-]}\n",
      "grad_ri_squared: gradient Richardson mean of squared, {[-]}}^2\n",
      "grad_ri_min: minimum gradient Richardson, [-]}\n",
      "grad_ri_max: maximum gradient Richardson, [-]}\n",
      "tke_sgs: Subgrid-scale turbulence kinetic energy, m^2s^-2\n",
      "tke_sgs_squared: Subgrid-scale turbulence kinetic energy mean of squared, {m^2s^-2}^2\n",
      "tke_sgs_min: minimum Subgrid-scale turbulence kinetic energy, m^2s^-2\n",
      "tke_sgs_max: maximum Subgrid-scale turbulence kinetic energy, m^2s^-2\n",
      "eddy_viscosity: Eddy Viscosity, m^2s^-1\n",
      "eddy_viscosity_squared: Eddy Viscosity mean of squared, {m^2s^-1}^2\n",
      "eddy_viscosity_min: minimum Eddy Viscosity, m^2s^-1\n",
      "eddy_viscosity_max: maximum Eddy Viscosity, m^2s^-1\n",
      "MA: , None\n",
      "MA_squared:  mean of squared, {None}^2\n",
      "MA_min: minimum , None\n",
      "MA_max: maximum , None\n",
      "LH_rate: Latent heat rate, None\n",
      "LH_rate_squared: Latent heat rate mean of squared, {None}^2\n",
      "LH_rate_min: minimum Latent heat rate, None\n",
      "LH_rate_max: maximum Latent heat rate, None\n",
      "CE_rate: Condensation / evaporation rate, None\n",
      "CE_rate_squared: Condensation / evaporation rate mean of squared, {None}^2\n",
      "CE_rate_min: minimum Condensation / evaporation rate, None\n",
      "CE_rate_max: maximum Condensation / evaporation rate, None\n",
      "CldNucl_rate: Cloud nucleation rate, None\n",
      "CldNucl_rate_squared: Cloud nucleation rate mean of squared, {None}^2\n",
      "CldNucl_rate_min: minimum Cloud nucleation rate, None\n",
      "CldNucl_rate_max: maximum Cloud nucleation rate, None\n",
      "saturation: Saturaiton Ratio, None\n",
      "saturation_squared: Saturaiton Ratio mean of squared, {None}^2\n",
      "saturation_min: minimum Saturaiton Ratio, None\n",
      "saturation_max: maximum Saturaiton Ratio, None\n",
      "n_reg_ccn: Aerosol Regeneration Rate, None\n",
      "n_reg_ccn_squared: Aerosol Regeneration Rate mean of squared, {None}^2\n",
      "n_reg_ccn_min: minimum Aerosol Regeneration Rate, None\n",
      "n_reg_ccn_max: maximum Aerosol Regeneration Rate, None\n",
      "EFFR: cloud droplet effective radius, None\n",
      "EFFR_squared: cloud droplet effective radius mean of squared, {None}^2\n",
      "EFFR_min: minimum cloud droplet effective radius, None\n",
      "EFFR_max: maximum cloud droplet effective radius, None\n",
      "c_RV: cloud droplet mean-volume radius, None\n",
      "c_RV_squared: cloud droplet mean-volume radius mean of squared, {None}^2\n",
      "c_RV_min: minimum cloud droplet mean-volume radius, None\n",
      "c_RV_max: maximum cloud droplet mean-volume radius, None\n",
      "T_sbm_in: temperature going into sbm, None\n",
      "T_sbm_in_squared: temperature going into sbm mean of squared, {None}^2\n",
      "T_sbm_in_min: minimum temperature going into sbm, None\n",
      "T_sbm_in_max: maximum temperature going into sbm, None\n",
      "qv_sbm_in: water vapor mixing ratio going into sbm, None\n",
      "qv_sbm_in_squared: water vapor mixing ratio going into sbm mean of squared, {None}^2\n",
      "qv_sbm_in_min: minimum water vapor mixing ratio going into sbm, None\n",
      "qv_sbm_in_max: maximum water vapor mixing ratio going into sbm, None\n",
      "qc_sbm_in: cloud-water mixing ratio going into sbm, None\n",
      "qc_sbm_in_squared: cloud-water mixing ratio going into sbm mean of squared, {None}^2\n",
      "qc_sbm_in_min: minimum cloud-water mixing ratio going into sbm, None\n",
      "qc_sbm_in_max: maximum cloud-water mixing ratio going into sbm, None\n",
      "qr_sbm_in: rain-water mixing ratio going into sbm, None\n",
      "qr_sbm_in_squared: rain-water mixing ratio going into sbm mean of squared, {None}^2\n",
      "qr_sbm_in_min: minimum rain-water mixing ratio going into sbm, None\n",
      "qr_sbm_in_max: maximum rain-water mixing ratio going into sbm, None\n",
      "qnc_sbm_in: cloud droplet number concentraiton going into sbm, None\n",
      "qnc_sbm_in_squared: cloud droplet number concentraiton going into sbm mean of squared, {None}^2\n",
      "qnc_sbm_in_min: minimum cloud droplet number concentraiton going into sbm, None\n",
      "qnc_sbm_in_max: maximum cloud droplet number concentraiton going into sbm, None\n",
      "qnr_sbm_in: rain drop number concentration going into sbm, None\n",
      "qnr_sbm_in_squared: rain drop number concentration going into sbm mean of squared, {None}^2\n",
      "qnr_sbm_in_min: minimum rain drop number concentration going into sbm, None\n",
      "qnr_sbm_in_max: maximum rain drop number concentration going into sbm, None\n",
      "qna_sbm_in: aerosol number concentration going into sbm, None\n",
      "qna_sbm_in_squared: aerosol number concentration going into sbm mean of squared, {None}^2\n",
      "qna_sbm_in_min: minimum aerosol number concentration going into sbm, None\n",
      "qna_sbm_in_max: maximum aerosol number concentration going into sbm, None\n",
      "qna_nucl_sbm_in: regeneration aerosol number concentration going into sbm, None\n",
      "qna_nucl_sbm_in_squared: regeneration aerosol number concentration going into sbm mean of squared, {None}^2\n",
      "qna_nucl_sbm_in_min: minimum regeneration aerosol number concentration going into sbm, None\n",
      "qna_nucl_sbm_in_max: maximum regeneration aerosol number concentration going into sbm, None\n",
      "liq_sed: liquid water sedimentation, kg kg^{-1} s^{-1}\n",
      "liq_sed_squared: liquid water sedimentation mean of squared, {kg kg^{-1} s^{-1}}^2\n",
      "liq_sed_min: minimum liquid water sedimentation, kg kg^{-1} s^{-1}\n",
      "liq_sed_max: maximum liquid water sedimentation, kg kg^{-1} s^{-1}\n",
      "s_tend_liq_sed: s tend liquid water sedimentation, \n",
      "s_tend_liq_sed_squared: s tend liquid water sedimentation mean of squared, {}^2\n",
      "s_tend_liq_sed_min: minimum s tend liquid water sedimentation, \n",
      "s_tend_liq_sed_max: maximum s tend liquid water sedimentation, \n",
      "nc_autoconv: cloud water autoconversion number, kg^-1\n",
      "nc_autoconv_squared: cloud water autoconversion number mean of squared, {kg^-1}^2\n",
      "nc_autoconv_min: minimum cloud water autoconversion number, kg^-1\n",
      "nc_autoconv_max: maximum cloud water autoconversion number, kg^-1\n",
      "qc_autoconv: cloud water autoconversion mass, kg kg^-1\n",
      "qc_autoconv_squared: cloud water autoconversion mass mean of squared, {kg kg^-1}^2\n",
      "qc_autoconv_min: minimum cloud water autoconversion mass, kg kg^-1\n",
      "qc_autoconv_max: maximum cloud water autoconversion mass, kg kg^-1\n",
      "qr_autoconv: rain water autoconversion mass, kg kg^-1\n",
      "qr_autoconv_squared: rain water autoconversion mass mean of squared, {kg kg^-1}^2\n",
      "qr_autoconv_min: minimum rain water autoconversion mass, kg kg^-1\n",
      "qr_autoconv_max: maximum rain water autoconversion mass, kg kg^-1\n",
      "nr_autoconv: rain water autoconversion number, kg^-1\n",
      "nr_autoconv_squared: rain water autoconversion number mean of squared, {kg^-1}^2\n",
      "nr_autoconv_min: minimum rain water autoconversion number, kg^-1\n",
      "nr_autoconv_max: maximum rain water autoconversion number, kg^-1\n",
      "qv_autoconv: water vapor autoconversion mass, kg kg^-1\n",
      "qv_autoconv_squared: water vapor autoconversion mass mean of squared, {kg kg^-1}^2\n",
      "qv_autoconv_min: minimum water vapor autoconversion mass, kg kg^-1\n",
      "qv_autoconv_max: maximum water vapor autoconversion mass, kg kg^-1\n",
      "t_autoconv: temperature, K\n",
      "t_autoconv_squared: temperature mean of squared, {K}^2\n",
      "t_autoconv_min: minimum temperature, K\n",
      "t_autoconv_max: maximum temperature, K\n",
      "w_autoconv: autoconversion vertical velocity, m s^-1\n",
      "w_autoconv_squared: autoconversion vertical velocity mean of squared, {m s^-1}^2\n",
      "w_autoconv_min: minimum autoconversion vertical velocity, m s^-1\n",
      "w_autoconv_max: maximum autoconversion vertical velocity, m s^-1\n",
      "auto_cldmsink_b: autoconversion cloud mass sink, kg kg^-1 s^-1\n",
      "auto_cldmsink_b_squared: autoconversion cloud mass sink mean of squared, {kg kg^-1 s^-1}^2\n",
      "auto_cldmsink_b_min: minimum autoconversion cloud mass sink, kg kg^-1 s^-1\n",
      "auto_cldmsink_b_max: maximum autoconversion cloud mass sink, kg kg^-1 s^-1\n",
      "auto_cldnsink_b: autoconversion cloud number sink, kg^-1 s^-1\n",
      "auto_cldnsink_b_squared: autoconversion cloud number sink mean of squared, {kg^-1 s^-1}^2\n",
      "auto_cldnsink_b_min: minimum autoconversion cloud number sink, kg^-1 s^-1\n",
      "auto_cldnsink_b_max: maximum autoconversion cloud number sink, kg^-1 s^-1\n",
      "accr_cldmsink_b: accretion cloud mass sink, kg kg^-1 s^-1\n",
      "accr_cldmsink_b_squared: accretion cloud mass sink mean of squared, {kg kg^-1 s^-1}^2\n",
      "accr_cldmsink_b_min: minimum accretion cloud mass sink, kg kg^-1 s^-1\n",
      "accr_cldmsink_b_max: maximum accretion cloud mass sink, kg kg^-1 s^-1\n",
      "accr_cldnsink_b: accretion cloud number sink, kg^-1 s^-1\n",
      "accr_cldnsink_b_squared: accretion cloud number sink mean of squared, {kg^-1 s^-1}^2\n",
      "accr_cldnsink_b_min: minimum accretion cloud number sink, kg^-1 s^-1\n",
      "accr_cldnsink_b_max: maximum accretion cloud number sink, kg^-1 s^-1\n",
      "selfc_rainnchng_b: self-collection cloud number change, kg^-1 s^-1\n",
      "selfc_rainnchng_b_squared: self-collection cloud number change mean of squared, {kg^-1 s^-1}^2\n",
      "selfc_rainnchng_b_min: minimum self-collection cloud number change, kg^-1 s^-1\n",
      "selfc_rainnchng_b_max: maximum self-collection cloud number change, kg^-1 s^-1\n",
      "T: Temperature, K\n",
      "T_squared: Temperature mean of squared, {K}^2\n",
      "T_min: minimum Temperature, K\n",
      "T_max: maximum Temperature, K\n",
      "alpha: Specific Volume, m^3 K^{-1}\n",
      "alpha_squared: Specific Volume mean of squared, {m^3 K^{-1}}^2\n",
      "alpha_min: minimum Specific Volume, m^3 K^{-1}\n",
      "alpha_max: maximum Specific Volume, m^3 K^{-1}\n",
      "buoyancy: buoyancy, m s^{-1}\n",
      "buoyancy_squared: buoyancy mean of squared, {m s^{-1}}^2\n",
      "buoyancy_min: minimum buoyancy, m s^{-1}\n",
      "buoyancy_max: maximum buoyancy, m s^{-1}\n",
      "buoyancy_gradient_mag: buoyancy, 1/s^{-2}\n",
      "buoyancy_gradient_mag_squared: buoyancy mean of squared, {1/s^{-2}}^2\n",
      "buoyancy_gradient_mag_min: minimum buoyancy, 1/s^{-2}\n",
      "buoyancy_gradient_mag_max: maximum buoyancy, 1/s^{-2}\n",
      "bvf: Brunt–Väisälä frequency squared, s^-2\n",
      "bvf_squared: Brunt–Väisälä frequency squared mean of squared, {s^-2}^2\n",
      "bvf_min: minimum Brunt–Väisälä frequency squared, s^-2\n",
      "bvf_max: maximum Brunt–Väisälä frequency squared, s^-2\n",
      "thetav: Virtual Potential Temperature, K\n",
      "thetav_squared: Virtual Potential Temperature mean of squared, {K}^2\n",
      "thetav_min: minimum Virtual Potential Temperature, K\n",
      "thetav_max: maximum Virtual Potential Temperature, K\n",
      "qt: Total water specific humidity, kg/kg\n",
      "qt_squared: Total water specific humidity mean of squared, {kg/kg}^2\n",
      "qt_min: minimum Total water specific humidity, kg/kg\n",
      "qt_max: maximum Total water specific humidity, kg/kg\n",
      "s_dry: Dry Static Energy, K\n",
      "s_dry_squared: Dry Static Energy mean of squared, {K}^2\n",
      "s_dry_min: minimum Dry Static Energy, K\n",
      "s_dry_max: maximum Dry Static Energy, K\n",
      "dynamic pressure: Dynamic Pressure, Pa\n",
      "dynamic pressure_squared: Dynamic Pressure mean of squared, {Pa}^2\n",
      "dynamic pressure_min: minimum Dynamic Pressure, Pa\n",
      "dynamic pressure_max: maximum Dynamic Pressure, Pa\n",
      "horizontal divergence: Horizontal Divergence, kg/(m^3 s)\n",
      "horizontal divergence_squared: Horizontal Divergence mean of squared, {kg/(m^3 s)}^2\n",
      "horizontal divergence_min: minimum Horizontal Divergence, kg/(m^3 s)\n",
      "horizontal divergence_max: maximum Horizontal Divergence, kg/(m^3 s)\n",
      "heating_rate_lw: None, None\n",
      "heating_rate_lw_squared: None mean of squared, {None}^2\n",
      "heating_rate_lw_min: minimum None, None\n",
      "heating_rate_lw_max: maximum None, None\n",
      "heating_rate_sw: None, None\n",
      "heating_rate_sw_squared: None mean of squared, {None}^2\n",
      "heating_rate_sw_min: minimum None, None\n",
      "heating_rate_sw_max: maximum None, None\n",
      "dTdt_rad: None, None\n",
      "dTdt_rad_squared: None mean of squared, {None}^2\n",
      "dTdt_rad_min: minimum None, None\n",
      "dTdt_rad_max: maximum None, None\n",
      "\n",
      "\n",
      "Group name:  MicroBase\n",
      "CF: Rain Fraction, \n",
      "No profiles in group:  MicroBase\n",
      "Group name:  DiagnosticsTurbulence\n",
      "u2: second central moment of u velocity, m^2 s^{-2}\n",
      "v2: second central moment of v velocity, m^2 s^{-2}\n",
      "w2: second central moment of w velocity, m^2 s^{-2}\n",
      "uv: cross-correlation of u and v velocity, m^2 s^{-2}\n",
      "uw: cross-correlation of u and w velocity, m^2 s^{-2}\n",
      "vw: cross-correlation of v and w velocity, m^2 s^{-2}\n",
      "tke: resolved turbulence kinetic energy, m^2 s^{-2}\n",
      "u3: third central moment of u velocity, m^3 s^{-3}\n",
      "v3: third central moment of v velocity, m^3 s^{-3}\n",
      "w3: third central moment of w velocity, m^3 s^{-3}\n",
      "u4: fourth central moment of u velocity, m^4 s^{-4}\n",
      "v4: fourth central moment of v velocity, m^4 s^{-4}\n",
      "w4: fourth central moment of w velocity, m^4 s^{-4}\n",
      "thetali: liquid-ice potential temperature, K\n",
      "qt: total water mixing ratio, kg kg^{-1}\n",
      "s2: second central moment of frozen static energy, K^2\n",
      "qv2: second central moment of water vapor mixing ratio, kg^2 kg^{-2}\n",
      "thetali2: second central moment of liquid-ice potential temperature, K^2\n",
      "qt2: second central moment of total water mixing ratio, kg^2 kg^{-2}\n",
      "s3: third central moment of frozen static energy, K^3\n",
      "qv3: third central moment of water vapor mixing ratio, kg^3 kg^{-3}\n",
      "thetali3: third central moment of liquid-ice potential temperature, K^3\n",
      "qt3: third central moment of total water mixing ratio, kg^3 kg^{-3}\n",
      "s4: fourth central moment of frozen static energy, K^4\n",
      "qv4: fourth central moment of water vapor mixing ratio, kg^4 kg^{-4}\n",
      "thetali4: fourth central moment of liquid-ice potential temperature, K^4\n",
      "qt4: fourth central moment of total water mixing ratio, kg^4 kg^{-4}\n",
      "wqt: resolved total water vertical flux, m s^{-1} kg kg^{-1}\n",
      "wthetali: resolved liquid-ice potential temperature vertical flux, m s^{-1} K\n",
      "wqv: resolved None vertical flux, m s^-1 None\n",
      "wqc: resolved cloud-water mixing ratio vertical flux, m s^-1 kg kg^-1\n",
      "wqr: resolved rain-water mixing ratio vertical flux, m s^-1 kg kg^-1\n",
      "wqnc: resolved cloud droplet number concentraiton vertical flux, m s^-1 kg kg^-1\n",
      "wqnr: resolved rain drop number concentration vertical flux, m s^-1 kg kg^-1\n",
      "wqna: resolved aerosol number concentration vertical flux, m s^-1 kg kg^-1\n",
      "wqna_nucl: resolved regeneration aerosol number concentration vertical flux, m s^-1 kg kg^-1\n",
      "ws: resolved static energy vertical flux, m s^-1 K\n",
      "qtthetali: correlation between total water mixing ratio and liquid-ice potential temperature, kg kg^-1 K\n",
      "\n",
      "\n",
      "Group name:  DiagnosticsClouds\n",
      "cloud_frac: Cloud fraction, \n",
      "core_frac: Core fraction, \n",
      "u_core: u velocity core conditional mean, m/s\n",
      "v_core: v velocity core conditional mean, m/s\n",
      "w_core: w velocity core conditional mean, m/s\n",
      "u_cloud: u velocity cloud conditional mean, m/s\n",
      "v_cloud: v velocity cloud conditional mean, m/s\n",
      "w_cloud: w velocity cloud conditional mean, m/s\n",
      "qv_cloud: None cloud, None\n",
      "qv_core: None core, None\n",
      "qc_cloud: cloud-water mixing ratio cloud, kg kg^-1\n",
      "qc_core: cloud-water mixing ratio core, kg kg^-1\n",
      "qr_cloud: rain-water mixing ratio cloud, kg kg^-1\n",
      "qr_core: rain-water mixing ratio core, kg kg^-1\n",
      "qnc_cloud: cloud droplet number concentraiton cloud, kg kg^-1\n",
      "qnc_core: cloud droplet number concentraiton core, kg kg^-1\n",
      "qnr_cloud: rain drop number concentration cloud, kg kg^-1\n",
      "qnr_core: rain drop number concentration core, kg kg^-1\n",
      "qna_cloud: aerosol number concentration cloud, kg kg^-1\n",
      "qna_core: aerosol number concentration core, kg kg^-1\n",
      "qna_nucl_cloud: regeneration aerosol number concentration cloud, kg kg^-1\n",
      "qna_nucl_core: regeneration aerosol number concentration core, kg kg^-1\n",
      "s_cloud: static energy cloud, K\n",
      "s_core: static energy core, K\n",
      "strain_rate_mag_cloud: Magnitude of strain rate tensor cloud, s^{-1}\n",
      "strain_rate_mag_core: Magnitude of strain rate tensor core, s^{-1}\n",
      "Q_criterion_cloud: Q criterion cloud, m^2 s^-2\n",
      "Q_criterion_core: Q criterion core, m^2 s^-2\n",
      "vertical_vorticity_cloud: Vertical Component of Vorticity cloud, s^{-1}\n",
      "vertical_vorticity_core: Vertical Component of Vorticity core, s^{-1}\n",
      "helicity_cloud: helicity cloud, m s^{-2}\n",
      "helicity_core: helicity core, m s^{-2}\n",
      "grad_ri_cloud: gradient Richardson cloud, [-]}\n",
      "grad_ri_core: gradient Richardson core, [-]}\n",
      "tke_sgs_cloud: Subgrid-scale turbulence kinetic energy cloud, m^2s^-2\n",
      "tke_sgs_core: Subgrid-scale turbulence kinetic energy core, m^2s^-2\n",
      "eddy_viscosity_cloud: Eddy Viscosity cloud, m^2s^-1\n",
      "eddy_viscosity_core: Eddy Viscosity core, m^2s^-1\n",
      "MA_cloud:  cloud, None\n",
      "MA_core:  core, None\n",
      "LH_rate_cloud: Latent heat rate cloud, None\n",
      "LH_rate_core: Latent heat rate core, None\n",
      "CE_rate_cloud: Condensation / evaporation rate cloud, None\n",
      "CE_rate_core: Condensation / evaporation rate core, None\n",
      "CldNucl_rate_cloud: Cloud nucleation rate cloud, None\n",
      "CldNucl_rate_core: Cloud nucleation rate core, None\n",
      "saturation_cloud: Saturaiton Ratio cloud, None\n",
      "saturation_core: Saturaiton Ratio core, None\n",
      "n_reg_ccn_cloud: Aerosol Regeneration Rate cloud, None\n",
      "n_reg_ccn_core: Aerosol Regeneration Rate core, None\n",
      "EFFR_cloud: cloud droplet effective radius cloud, None\n",
      "EFFR_core: cloud droplet effective radius core, None\n",
      "c_RV_cloud: cloud droplet mean-volume radius cloud, None\n",
      "c_RV_core: cloud droplet mean-volume radius core, None\n",
      "T_sbm_in_cloud: temperature going into sbm cloud, None\n",
      "T_sbm_in_core: temperature going into sbm core, None\n",
      "qv_sbm_in_cloud: water vapor mixing ratio going into sbm cloud, None\n",
      "qv_sbm_in_core: water vapor mixing ratio going into sbm core, None\n",
      "qc_sbm_in_cloud: cloud-water mixing ratio going into sbm cloud, None\n",
      "qc_sbm_in_core: cloud-water mixing ratio going into sbm core, None\n",
      "qr_sbm_in_cloud: rain-water mixing ratio going into sbm cloud, None\n",
      "qr_sbm_in_core: rain-water mixing ratio going into sbm core, None\n",
      "qnc_sbm_in_cloud: cloud droplet number concentraiton going into sbm cloud, None\n",
      "qnc_sbm_in_core: cloud droplet number concentraiton going into sbm core, None\n",
      "qnr_sbm_in_cloud: rain drop number concentration going into sbm cloud, None\n",
      "qnr_sbm_in_core: rain drop number concentration going into sbm core, None\n",
      "qna_sbm_in_cloud: aerosol number concentration going into sbm cloud, None\n",
      "qna_sbm_in_core: aerosol number concentration going into sbm core, None\n",
      "qna_nucl_sbm_in_cloud: regeneration aerosol number concentration going into sbm cloud, None\n",
      "qna_nucl_sbm_in_core: regeneration aerosol number concentration going into sbm core, None\n",
      "liq_sed_cloud: liquid water sedimentation cloud, kg kg^{-1} s^{-1}\n",
      "liq_sed_core: liquid water sedimentation core, kg kg^{-1} s^{-1}\n",
      "s_tend_liq_sed_cloud: s tend liquid water sedimentation cloud, \n",
      "s_tend_liq_sed_core: s tend liquid water sedimentation core, \n",
      "nc_autoconv_cloud: cloud water autoconversion number cloud, kg^-1\n",
      "nc_autoconv_core: cloud water autoconversion number core, kg^-1\n",
      "qc_autoconv_cloud: cloud water autoconversion mass cloud, kg kg^-1\n",
      "qc_autoconv_core: cloud water autoconversion mass core, kg kg^-1\n",
      "qr_autoconv_cloud: rain water autoconversion mass cloud, kg kg^-1\n",
      "qr_autoconv_core: rain water autoconversion mass core, kg kg^-1\n",
      "nr_autoconv_cloud: rain water autoconversion number cloud, kg^-1\n",
      "nr_autoconv_core: rain water autoconversion number core, kg^-1\n",
      "qv_autoconv_cloud: water vapor autoconversion mass cloud, kg kg^-1\n",
      "qv_autoconv_core: water vapor autoconversion mass core, kg kg^-1\n",
      "t_autoconv_cloud: temperature cloud, K\n",
      "t_autoconv_core: temperature core, K\n",
      "w_autoconv_cloud: autoconversion vertical velocity cloud, m s^-1\n",
      "w_autoconv_core: autoconversion vertical velocity core, m s^-1\n",
      "auto_cldmsink_b_cloud: autoconversion cloud mass sink cloud, kg kg^-1 s^-1\n",
      "auto_cldmsink_b_core: autoconversion cloud mass sink core, kg kg^-1 s^-1\n",
      "auto_cldnsink_b_cloud: autoconversion cloud number sink cloud, kg^-1 s^-1\n",
      "auto_cldnsink_b_core: autoconversion cloud number sink core, kg^-1 s^-1\n",
      "accr_cldmsink_b_cloud: accretion cloud mass sink cloud, kg kg^-1 s^-1\n",
      "accr_cldmsink_b_core: accretion cloud mass sink core, kg kg^-1 s^-1\n",
      "accr_cldnsink_b_cloud: accretion cloud number sink cloud, kg^-1 s^-1\n",
      "accr_cldnsink_b_core: accretion cloud number sink core, kg^-1 s^-1\n",
      "selfc_rainnchng_b_cloud: self-collection cloud number change cloud, kg^-1 s^-1\n",
      "selfc_rainnchng_b_core: self-collection cloud number change core, kg^-1 s^-1\n",
      "T_cloud: Temperature cloud, K\n",
      "T_core: Temperature core, K\n",
      "alpha_cloud: Specific Volume cloud, m^3 K^{-1}\n",
      "alpha_core: Specific Volume core, m^3 K^{-1}\n",
      "buoyancy_cloud: buoyancy cloud, m s^{-1}\n",
      "buoyancy_core: buoyancy core, m s^{-1}\n",
      "buoyancy_gradient_mag_cloud: buoyancy cloud, 1/s^{-2}\n",
      "buoyancy_gradient_mag_core: buoyancy core, 1/s^{-2}\n",
      "bvf_cloud: Brunt–Väisälä frequency squared cloud, s^-2\n",
      "bvf_core: Brunt–Väisälä frequency squared core, s^-2\n",
      "thetav_cloud: Virtual Potential Temperature cloud, K\n",
      "thetav_core: Virtual Potential Temperature core, K\n",
      "qt_cloud: Total water specific humidity cloud, kg/kg\n",
      "qt_core: Total water specific humidity core, kg/kg\n",
      "s_dry_cloud: Dry Static Energy cloud, K\n",
      "s_dry_core: Dry Static Energy core, K\n",
      "dynamic pressure_cloud: Dynamic Pressure cloud, Pa\n",
      "dynamic pressure_core: Dynamic Pressure core, Pa\n",
      "horizontal divergence_cloud: Horizontal Divergence cloud, kg/(m^3 s)\n",
      "horizontal divergence_core: Horizontal Divergence core, kg/(m^3 s)\n",
      "heating_rate_lw_cloud: None cloud, None\n",
      "heating_rate_lw_core: None core, None\n",
      "heating_rate_sw_cloud: None cloud, None\n",
      "heating_rate_sw_core: None core, None\n",
      "dTdt_rad_cloud: None cloud, None\n",
      "dTdt_rad_core: None core, None\n",
      "\n",
      "\n",
      "Group name:  DiagnosticsCase\n",
      "\n",
      "\n",
      "Group name:  RRTMG\n",
      "r_eff_cloud: Effective droplet radius, m\n",
      "\n",
      "\n"
     ]
    }
   ],
   "source": [
    "for group in group_list:\n",
    "    try:\n",
    "        ds = xr.open_dataset(file, group = group + '/profiles')\n",
    "        print(\"Group name: \", group)\n",
    "        for var in ds.data_vars:\n",
    "            print(f'{var}: {ds[var].attrs[\"long_name\"]}, {ds[var].attrs[\"units\"]}')\n",
    "        print(\"\\n\")\n",
    "    except:\n",
    "        print(\"No profiles in group: \", group)\n",
    "    "
   ]
  },
  {
   "cell_type": "code",
   "execution_count": 14,
   "metadata": {},
   "outputs": [
    {
     "name": "stdout",
     "output_type": "stream",
     "text": [
      "qc_autoconv_cloud\n"
     ]
    }
   ],
   "source": [
    "print(qc_autoconv_cloud.name)"
   ]
  },
  {
   "cell_type": "code",
   "execution_count": 15,
   "metadata": {},
   "outputs": [
    {
     "name": "stdout",
     "output_type": "stream",
     "text": [
      "[[0.00000000e+00 0.00000000e+00 0.00000000e+00 ... 0.00000000e+00\n",
      "  0.00000000e+00 0.00000000e+00]\n",
      " [0.00000000e+00 0.00000000e+00 0.00000000e+00 ... 0.00000000e+00\n",
      "  0.00000000e+00 0.00000000e+00]\n",
      " [0.00000000e+00 0.00000000e+00 0.00000000e+00 ... 0.00000000e+00\n",
      "  0.00000000e+00 0.00000000e+00]\n",
      " ...\n",
      " [7.62277415e-14 7.58616055e-14 7.59719534e-14 ... 0.00000000e+00\n",
      "  0.00000000e+00 0.00000000e+00]\n",
      " [7.32443613e-14 7.30610096e-14 7.33637341e-14 ... 0.00000000e+00\n",
      "  0.00000000e+00 0.00000000e+00]\n",
      " [7.20747614e-14 7.19553155e-14 7.21639418e-14 ... 0.00000000e+00\n",
      "  0.00000000e+00 0.00000000e+00]]\n"
     ]
    }
   ],
   "source": [
    "print(qc_autoconv_cloud.data)"
   ]
  },
  {
   "cell_type": "code",
   "execution_count": 16,
   "metadata": {},
   "outputs": [],
   "source": [
    "THRESHOLD = 1e-6\n",
    "def find_nonzero_threshold(dataset, num_values):\n",
    "    index_list = []\n",
    "    for i in range(dataset.shape[1]):\n",
    "        array = dataset.isel(z = i).data\n",
    "        count = np.count_nonzero(array >= THRESHOLD)\n",
    "        if count > num_values:\n",
    "            index_list.append(i)\n",
    "    return index_list"
   ]
  },
  {
   "cell_type": "code",
   "execution_count": 17,
   "metadata": {},
   "outputs": [],
   "source": [
    "def extract_data(dataset, index_list):\n",
    "    data_list = []\n",
    "    for index in index_list:\n",
    "        data_list.append(dataset[:, index])\n",
    "    data_array = np.array(data_list)\n",
    "    return data_array"
   ]
  },
  {
   "cell_type": "code",
   "execution_count": 18,
   "metadata": {},
   "outputs": [],
   "source": [
    "def data_profile(data):\n",
    "    print(f\"Mean: {np.mean(data)}\")\n",
    "    print(f\"Variance: {np.var(data)}\")\n",
    "    print(f\"Min: {np.min(data)}\")\n",
    "    print(f\"Max: {np.max(data)}\")"
   ]
  },
  {
   "cell_type": "code",
   "execution_count": 19,
   "metadata": {},
   "outputs": [],
   "source": [
    "def min_max_normalize(data):\n",
    "    return (data - np.min(data)) / (np.max(data) - np.min(data))"
   ]
  },
  {
   "cell_type": "code",
   "execution_count": 49,
   "metadata": {},
   "outputs": [
    {
     "name": "stdout",
     "output_type": "stream",
     "text": [
      "27\n"
     ]
    }
   ],
   "source": [
    "index_list = find_nonzero_threshold(qc_autoconv_cloud, 0.75 * qc_autoconv_cloud.shape[0])\n",
    "print(len(index_list))\n",
    "def prepare_dataset(dataset, log):\n",
    "    dataset_copy = dataset.values\n",
    "    if log:\n",
    "        dataset_copy = np.log(dataset_copy, out = np.zeros_like(dataset_copy, dtype=np.float64), where = (dataset_copy > 0))\n",
    "        # dataset_copy = np.nan_to_num(dataset_copy, nan = 0)\n",
    "    data = extract_data(dataset_copy, index_list)\n",
    "    data = min_max_normalize(data)\n",
    "    return data"
   ]
  },
  {
   "cell_type": "code",
   "execution_count": 50,
   "metadata": {},
   "outputs": [
    {
     "name": "stdout",
     "output_type": "stream",
     "text": [
      "Mean: 0.34698925859183904\n",
      "Variance: 0.08311474495906797\n",
      "Min: 0.0\n",
      "Max: 1.0\n"
     ]
    }
   ],
   "source": [
    "# qc_autoconv_cloud_log = np.log(qc_autoconv_cloud_data, where = qc_autoconv_cloud_data > 0)\n",
    "qc_autoconv_cloud_norm = prepare_dataset(qc_autoconv_cloud, False)\n",
    "data_profile(qc_autoconv_cloud_norm)"
   ]
  },
  {
   "cell_type": "code",
   "execution_count": 48,
   "metadata": {},
   "outputs": [
    {
     "data": {
      "text/plain": [
       "(array([29., 22., 21., 48., 10., 12., 14., 21., 18., 16., 15., 13., 19.,\n",
       "        14., 18., 27., 25., 15., 13., 17., 65., 62., 59., 62., 86.,  0.,\n",
       "         0.,  0.,  0.,  0.,  0.,  0.,  0.,  0.,  0.,  0.,  0.,  0.,  0.,\n",
       "         0.,  0.,  0.,  0.,  0.,  0.,  0.,  0.,  0.,  0.,  0.]),\n",
       " array([0.  , 0.02, 0.04, 0.06, 0.08, 0.1 , 0.12, 0.14, 0.16, 0.18, 0.2 ,\n",
       "        0.22, 0.24, 0.26, 0.28, 0.3 , 0.32, 0.34, 0.36, 0.38, 0.4 , 0.42,\n",
       "        0.44, 0.46, 0.48, 0.5 , 0.52, 0.54, 0.56, 0.58, 0.6 , 0.62, 0.64,\n",
       "        0.66, 0.68, 0.7 , 0.72, 0.74, 0.76, 0.78, 0.8 , 0.82, 0.84, 0.86,\n",
       "        0.88, 0.9 , 0.92, 0.94, 0.96, 0.98, 1.  ]),\n",
       " <BarContainer object of 50 artists>)"
      ]
     },
     "execution_count": 48,
     "metadata": {},
     "output_type": "execute_result"
    },
    {
     "data": {
      "image/png": "[encoded data removed]",
      "text/plain": [
       "<Figure size 640x480 with 1 Axes>"
      ]
     },
     "metadata": {},
     "output_type": "display_data"
    }
   ],
   "source": [
    "plt.hist(qc_autoconv_cloud_norm[10,:], bins = 50, range = (0, 1))"
   ]
  },
  {
   "cell_type": "code",
   "execution_count": 23,
   "metadata": {},
   "outputs": [
    {
     "name": "stdout",
     "output_type": "stream",
     "text": [
      "[[0.         0.         0.         ... 0.         0.         0.        ]\n",
      " [0.         0.         0.         ... 0.         0.         0.        ]\n",
      " [0.         0.         0.         ... 0.         0.         0.        ]\n",
      " ...\n",
      " [0.00050406 0.00050207 0.00050475 ... 0.         0.         0.        ]\n",
      " [0.00048514 0.00048459 0.00048874 ... 0.         0.         0.        ]\n",
      " [0.00047852 0.00047839 0.00048155 ... 0.         0.         0.        ]]\n"
     ]
    }
   ],
   "source": [
    "print(nc_autoconv_cloud.values)"
   ]
  },
  {
   "cell_type": "code",
   "execution_count": 24,
   "metadata": {},
   "outputs": [],
   "source": [
    "nc_autoconv_cloud = cloud_ds['nc_autoconv_cloud']"
   ]
  },
  {
   "cell_type": "code",
   "execution_count": 25,
   "metadata": {},
   "outputs": [
    {
     "name": "stdout",
     "output_type": "stream",
     "text": [
      "Mean: 4515107.5178832635\n",
      "Variance: 221399959463769.4\n",
      "Min: 0.0\n",
      "Max: 74052322.35668987\n"
     ]
    }
   ],
   "source": [
    "data_profile(nc_autoconv_cloud.values)"
   ]
  },
  {
   "cell_type": "code",
   "execution_count": 26,
   "metadata": {},
   "outputs": [
    {
     "data": {
      "text/plain": [
       "array([    0.,    60.,   120.,   180.,   240.,   300.,   360.,   420.,\n",
       "         480.,   540.,   600.,   660.,   720.,   780.,   840.,   900.,\n",
       "         960.,  1020.,  1080.,  1140.,  1200.,  1260.,  1320.,  1380.,\n",
       "        1440.,  1500.,  1560.,  1620.,  1680.,  1740.,  1800.,  1860.,\n",
       "        1920.,  1980.,  2040.,  2100.,  2160.,  2220.,  2280.,  2340.,\n",
       "        2400.,  2460.,  2520.,  2580.,  2640.,  2700.,  2760.,  2820.,\n",
       "        2880.,  2940.,  3000.,  3060.,  3120.,  3180.,  3240.,  3300.,\n",
       "        3360.,  3420.,  3480.,  3540.,  3600.,  3660.,  3720.,  3780.,\n",
       "        3840.,  3900.,  3960.,  4020.,  4080.,  4140.,  4200.,  4260.,\n",
       "        4320.,  4380.,  4440.,  4500.,  4560.,  4620.,  4680.,  4740.,\n",
       "        4800.,  4860.,  4920.,  4980.,  5040.,  5100.,  5160.,  5220.,\n",
       "        5280.,  5340.,  5400.,  5460.,  5520.,  5580.,  5640.,  5700.,\n",
       "        5760.,  5820.,  5880.,  5940.,  6000.,  6060.,  6120.,  6180.,\n",
       "        6240.,  6300.,  6360.,  6420.,  6480.,  6540.,  6600.,  6660.,\n",
       "        6720.,  6780.,  6840.,  6900.,  6960.,  7020.,  7080.,  7140.,\n",
       "        7200.,  7260.,  7320.,  7380.,  7440.,  7500.,  7560.,  7620.,\n",
       "        7680.,  7740.,  7800.,  7860.,  7920.,  7980.,  8040.,  8100.,\n",
       "        8160.,  8220.,  8280.,  8340.,  8400.,  8460.,  8520.,  8580.,\n",
       "        8640.,  8700.,  8760.,  8820.,  8880.,  8940.,  9000.,  9060.,\n",
       "        9120.,  9180.,  9240.,  9300.,  9360.,  9420.,  9480.,  9540.,\n",
       "        9600.,  9660.,  9720.,  9780.,  9840.,  9900.,  9960., 10020.,\n",
       "       10080., 10140., 10200., 10260., 10320., 10380., 10440., 10500.,\n",
       "       10560., 10620., 10680., 10740., 10800., 10860., 10920., 10980.,\n",
       "       11040., 11100., 11160., 11220., 11280., 11340., 11400., 11460.,\n",
       "       11520., 11580., 11640., 11700., 11760., 11820., 11880., 11940.,\n",
       "       12000., 12060., 12120., 12180., 12240., 12300., 12360., 12420.,\n",
       "       12480., 12540., 12600., 12660., 12720., 12780., 12840., 12900.,\n",
       "       12960., 13020., 13080., 13140., 13200., 13260., 13320., 13380.,\n",
       "       13440., 13500., 13560., 13620., 13680., 13740., 13800., 13860.,\n",
       "       13920., 13980., 14040., 14100., 14160., 14220., 14280., 14340.,\n",
       "       14400., 14460., 14520., 14580., 14640., 14700., 14760., 14820.,\n",
       "       14880., 14940., 15000., 15060., 15120., 15180., 15240., 15300.,\n",
       "       15360., 15420., 15480., 15540., 15600., 15660., 15720., 15780.,\n",
       "       15840., 15900., 15960., 16020., 16080., 16140., 16200., 16260.,\n",
       "       16320., 16380., 16440., 16500., 16560., 16620., 16680., 16740.,\n",
       "       16800., 16860., 16920., 16980., 17040., 17100., 17160., 17220.,\n",
       "       17280., 17340., 17400., 17460., 17520., 17580., 17640., 17700.,\n",
       "       17760., 17820., 17880., 17940., 18000., 18060., 18120., 18180.,\n",
       "       18240., 18300., 18360., 18420., 18480., 18540., 18600., 18660.,\n",
       "       18720., 18780., 18840., 18900., 18960., 19020., 19080., 19140.,\n",
       "       19200., 19260., 19320., 19380., 19440., 19500., 19560., 19620.,\n",
       "       19680., 19740., 19800., 19860., 19920., 19980., 20040., 20100.,\n",
       "       20160., 20220., 20280., 20340., 20400., 20460., 20520., 20580.,\n",
       "       20640., 20700., 20760., 20820., 20880., 20940., 21000., 21060.,\n",
       "       21120., 21180., 21240., 21300., 21360., 21420., 21480., 21540.,\n",
       "       21600., 21660., 21720., 21780., 21840., 21900., 21960., 22020.,\n",
       "       22080., 22140., 22200., 22260., 22320., 22380., 22440., 22500.,\n",
       "       22560., 22620., 22680., 22740., 22800., 22860., 22920., 22980.,\n",
       "       23040., 23100., 23160., 23220., 23280., 23340., 23400., 23460.,\n",
       "       23520., 23580., 23640., 23700., 23760., 23820., 23880., 23940.,\n",
       "       24000., 24060., 24120., 24180., 24240., 24300., 24360., 24420.,\n",
       "       24480., 24540., 24600., 24660., 24720., 24780., 24840., 24900.,\n",
       "       24960., 25020., 25080., 25140., 25200., 25260., 25320., 25380.,\n",
       "       25440., 25500., 25560., 25620., 25680., 25740., 25800., 25860.,\n",
       "       25920., 25980., 26040., 26100., 26160., 26220., 26280., 26340.,\n",
       "       26400., 26460., 26520., 26580., 26640., 26700., 26760., 26820.,\n",
       "       26880., 26940., 27000., 27060., 27120., 27180., 27240., 27300.,\n",
       "       27360., 27420., 27480., 27540., 27600., 27660., 27720., 27780.,\n",
       "       27840., 27900., 27960., 28020., 28080., 28140., 28200., 28260.,\n",
       "       28320., 28380., 28440., 28500., 28560., 28620., 28680., 28740.,\n",
       "       28800., 28860., 28920., 28980., 29040., 29100., 29160., 29220.,\n",
       "       29280., 29340., 29400., 29460., 29520., 29580., 29640., 29700.,\n",
       "       29760., 29820., 29880., 29940., 30000., 30060., 30120., 30180.,\n",
       "       30240., 30300., 30360., 30420., 30480., 30540., 30600., 30660.,\n",
       "       30720., 30780., 30840., 30900., 30960., 31020., 31080., 31140.,\n",
       "       31200., 31260., 31320., 31380., 31440., 31500., 31560., 31620.,\n",
       "       31680., 31740., 31800., 31860., 31920., 31980., 32040., 32100.,\n",
       "       32160., 32220., 32280., 32340., 32400., 32460., 32520., 32580.,\n",
       "       32640., 32700., 32760., 32820., 32880., 32940., 33000., 33060.,\n",
       "       33120., 33180., 33240., 33300., 33360., 33420., 33480., 33540.,\n",
       "       33600., 33660., 33720., 33780., 33840., 33900., 33960., 34020.,\n",
       "       34080., 34140., 34200., 34260., 34320., 34380., 34440., 34500.,\n",
       "       34560., 34620., 34680., 34740., 34800., 34860., 34920., 34980.,\n",
       "       35040., 35100., 35160., 35220., 35280., 35340., 35400., 35460.,\n",
       "       35520., 35580., 35640., 35700., 35760., 35820., 35880., 35940.,\n",
       "       36000., 36060., 36120., 36180., 36240., 36300., 36360., 36420.,\n",
       "       36480., 36540., 36600., 36660., 36720., 36780., 36840., 36900.,\n",
       "       36960., 37020., 37080., 37140., 37200., 37260., 37320., 37380.,\n",
       "       37440., 37500., 37560., 37620., 37680., 37740., 37800., 37860.,\n",
       "       37920., 37980., 38040., 38100., 38160., 38220., 38280., 38340.,\n",
       "       38400., 38460., 38520., 38580., 38640., 38700., 38760., 38820.,\n",
       "       38880., 38940., 39000., 39060., 39120., 39180., 39240., 39300.,\n",
       "       39360., 39420., 39480., 39540., 39600., 39660., 39720., 39780.,\n",
       "       39840., 39900., 39960., 40020., 40080., 40140., 40200., 40260.,\n",
       "       40320., 40380., 40440., 40500., 40560., 40620., 40680., 40740.,\n",
       "       40800., 40860., 40920., 40980., 41040., 41100., 41160., 41220.,\n",
       "       41280., 41340., 41400., 41460., 41520., 41580., 41640., 41700.,\n",
       "       41760., 41820., 41880., 41940., 42000., 42060., 42120., 42180.,\n",
       "       42240., 42300., 42360., 42420., 42480., 42540., 42600., 42660.,\n",
       "       42720., 42780., 42840., 42900., 42960., 43020., 43080., 43140.,\n",
       "       43200.])"
      ]
     },
     "execution_count": 26,
     "metadata": {},
     "output_type": "execute_result"
    }
   ],
   "source": [
    "nc_autoconv_cloud.time.values"
   ]
  },
  {
   "cell_type": "code",
   "execution_count": 54,
   "metadata": {},
   "outputs": [
    {
     "name": "stdout",
     "output_type": "stream",
     "text": [
      "Mean: 0.5739292110465752\n",
      "Variance: 0.10364709051542997\n",
      "Min: 0.0\n",
      "Max: 1.0\n"
     ]
    }
   ],
   "source": [
    "nc_autoconv_cloud_norm = prepare_dataset(nc_autoconv_cloud, False)\n",
    "data_profile(nc_autoconv_cloud_norm)"
   ]
  },
  {
   "cell_type": "code",
   "execution_count": 52,
   "metadata": {},
   "outputs": [
    {
     "name": "stdout",
     "output_type": "stream",
     "text": [
      "[[0.         0.         0.         ... 0.27144982 0.26919781 0.26727654]\n",
      " [0.         0.         0.         ... 0.3095276  0.30778704 0.30604588]\n",
      " [0.         0.         0.         ... 0.35100798 0.34906664 0.34763457]\n",
      " ...\n",
      " [0.         0.         0.         ... 0.81558851 0.81662104 0.81731127]\n",
      " [0.         0.         0.         ... 0.77788628 0.77840337 0.77899863]\n",
      " [0.         0.         0.         ... 0.70780116 0.70955247 0.71134256]]\n"
     ]
    }
   ],
   "source": [
    "print(nc_autoconv_cloud_norm)"
   ]
  },
  {
   "cell_type": "code",
   "execution_count": 53,
   "metadata": {},
   "outputs": [
    {
     "data": {
      "text/plain": [
       "(array([29.,  0.,  0.,  0.,  3.,  3.,  5., 14.,  5.,  3.,  3.,  3.,  4.,\n",
       "         4.,  7., 16.,  6.,  4.,  4.,  4.,  4.,  3.,  3.,  3.,  2.,  4.,\n",
       "         4.,  6.,  7., 11., 11.,  9., 12., 20., 41., 37., 30., 35., 34.,\n",
       "        62., 51., 53., 64., 98.,  0.,  0.,  0.,  0.,  0.,  0.]),\n",
       " array([0.  , 0.02, 0.04, 0.06, 0.08, 0.1 , 0.12, 0.14, 0.16, 0.18, 0.2 ,\n",
       "        0.22, 0.24, 0.26, 0.28, 0.3 , 0.32, 0.34, 0.36, 0.38, 0.4 , 0.42,\n",
       "        0.44, 0.46, 0.48, 0.5 , 0.52, 0.54, 0.56, 0.58, 0.6 , 0.62, 0.64,\n",
       "        0.66, 0.68, 0.7 , 0.72, 0.74, 0.76, 0.78, 0.8 , 0.82, 0.84, 0.86,\n",
       "        0.88, 0.9 , 0.92, 0.94, 0.96, 0.98, 1.  ]),\n",
       " <BarContainer object of 50 artists>)"
      ]
     },
     "execution_count": 53,
     "metadata": {},
     "output_type": "execute_result"
    },
    {
     "data": {
      "image/png": "[encoded data removed]",
      "text/plain": [
       "<Figure size 640x480 with 1 Axes>"
      ]
     },
     "metadata": {},
     "output_type": "display_data"
    }
   ],
   "source": [
    "plt.hist(nc_autoconv_cloud_norm[10,:], bins = 50, range = (0, 1))"
   ]
  },
  {
   "cell_type": "markdown",
   "metadata": {},
   "source": [
    "log makes nc_autoconv distribution even more skewed so that's a no go\n"
   ]
  },
  {
   "cell_type": "code",
   "execution_count": 56,
   "metadata": {},
   "outputs": [
    {
     "name": "stdout",
     "output_type": "stream",
     "text": [
      "Mean: 0.6276916067333895\n",
      "Variance: 0.013766741657197016\n",
      "Min: 0.0\n",
      "Max: 1.0\n"
     ]
    }
   ],
   "source": [
    "qr_autoconv_cloud_norm = prepare_dataset(qr_autoconv_cloud, True)\n",
    "data_profile(qr_autoconv_cloud_norm)"
   ]
  },
  {
   "cell_type": "code",
   "execution_count": 31,
   "metadata": {},
   "outputs": [
    {
     "data": {
      "text/plain": [
       "(array([ 1.,  0.,  0.,  1.,  0.,  0.,  1.,  1.,  0.,  0.,  0.,  0.,  0.,\n",
       "         1.,  1.,  0.,  0.,  0.,  0.,  4.,  7.,  2.,  6.,  7., 12., 60.,\n",
       "        47., 37., 30., 47., 60., 37., 56., 64., 49., 58., 58., 49.,  0.,\n",
       "         0.,  0.,  0.,  0.,  0.,  0.,  0.,  0.,  0.,  0., 25.]),\n",
       " array([0.  , 0.02, 0.04, 0.06, 0.08, 0.1 , 0.12, 0.14, 0.16, 0.18, 0.2 ,\n",
       "        0.22, 0.24, 0.26, 0.28, 0.3 , 0.32, 0.34, 0.36, 0.38, 0.4 , 0.42,\n",
       "        0.44, 0.46, 0.48, 0.5 , 0.52, 0.54, 0.56, 0.58, 0.6 , 0.62, 0.64,\n",
       "        0.66, 0.68, 0.7 , 0.72, 0.74, 0.76, 0.78, 0.8 , 0.82, 0.84, 0.86,\n",
       "        0.88, 0.9 , 0.92, 0.94, 0.96, 0.98, 1.  ]),\n",
       " <BarContainer object of 50 artists>)"
      ]
     },
     "execution_count": 31,
     "metadata": {},
     "output_type": "execute_result"
    },
    {
     "data": {
      "image/png": "[encoded data removed]",
      "text/plain": [
       "<Figure size 640x480 with 1 Axes>"
      ]
     },
     "metadata": {},
     "output_type": "display_data"
    }
   ],
   "source": [
    "plt.hist(qr_autoconv_cloud_norm[10,:], bins = 50, range = (0, 1))"
   ]
  },
  {
   "cell_type": "markdown",
   "metadata": {},
   "source": [
    "Very responsive to log as well, better looking distribution"
   ]
  },
  {
   "cell_type": "code",
   "execution_count": 60,
   "metadata": {},
   "outputs": [
    {
     "name": "stdout",
     "output_type": "stream",
     "text": [
      "Mean: 0.7941891361304855\n",
      "Variance: 0.01602046084416526\n",
      "Min: 0.0\n",
      "Max: 1.0\n"
     ]
    }
   ],
   "source": [
    "nr_autoconv_cloud_norm = prepare_dataset(nr_autoconv_cloud, True)\n",
    "data_profile(nr_autoconv_cloud_norm)"
   ]
  },
  {
   "cell_type": "code",
   "execution_count": 62,
   "metadata": {},
   "outputs": [
    {
     "data": {
      "text/plain": [
       "(array([ 1.,  0.,  0.,  0.,  0.,  1.,  0.,  0.,  1.,  1.,  0.,  0.,  0.,\n",
       "         0.,  0.,  0.,  0.,  1.,  1.,  0.,  0.,  0.,  0.,  0.,  1.,  3.,\n",
       "         7.,  2.,  3.,  6.,  4., 11., 48., 21., 50., 27., 19., 45., 19.,\n",
       "        64., 26., 46., 61., 32., 47., 54., 45., 49.,  0., 25.]),\n",
       " array([0.  , 0.02, 0.04, 0.06, 0.08, 0.1 , 0.12, 0.14, 0.16, 0.18, 0.2 ,\n",
       "        0.22, 0.24, 0.26, 0.28, 0.3 , 0.32, 0.34, 0.36, 0.38, 0.4 , 0.42,\n",
       "        0.44, 0.46, 0.48, 0.5 , 0.52, 0.54, 0.56, 0.58, 0.6 , 0.62, 0.64,\n",
       "        0.66, 0.68, 0.7 , 0.72, 0.74, 0.76, 0.78, 0.8 , 0.82, 0.84, 0.86,\n",
       "        0.88, 0.9 , 0.92, 0.94, 0.96, 0.98, 1.  ]),\n",
       " <BarContainer object of 50 artists>)"
      ]
     },
     "execution_count": 62,
     "metadata": {},
     "output_type": "execute_result"
    },
    {
     "data": {
      "image/png": "[encoded data removed]",
      "text/plain": [
       "<Figure size 640x480 with 1 Axes>"
      ]
     },
     "metadata": {},
     "output_type": "display_data"
    }
   ],
   "source": [
    "plt.hist(nr_autoconv_cloud_norm[10,:], bins = 50, range = (0, 1))"
   ]
  },
  {
   "cell_type": "markdown",
   "metadata": {},
   "source": [
    "responsive to log"
   ]
  },
  {
   "cell_type": "code",
   "execution_count": 63,
   "metadata": {},
   "outputs": [
    {
     "name": "stdout",
     "output_type": "stream",
     "text": [
      "Mean: 7.565485732251578e-17\n",
      "Variance: 5.350156019920305e-31\n",
      "Min: 0.0\n",
      "Max: 1.7971848647695316e-14\n"
     ]
    }
   ],
   "source": [
    "data_profile(auto_cldmsink_b_cloud.values)"
   ]
  },
  {
   "cell_type": "code",
   "execution_count": 69,
   "metadata": {},
   "outputs": [
    {
     "name": "stdout",
     "output_type": "stream",
     "text": [
      "Mean: 0.5106370727588699\n",
      "Variance: 0.020665768544103836\n",
      "Min: 0.0\n",
      "Max: 1.0\n",
      "0.0\n",
      "(27, 721)\n"
     ]
    }
   ],
   "source": [
    "auto_cldmsink_b_cloud_norm = prepare_dataset(auto_cldmsink_b_cloud, True)\n",
    "data_profile(auto_cldmsink_b_cloud_norm)\n",
    "print(np.min(auto_cldmsink_b_cloud_norm))\n",
    "print(auto_cldmsink_b_cloud_norm.shape)"
   ]
  },
  {
   "cell_type": "code",
   "execution_count": 70,
   "metadata": {},
   "outputs": [
    {
     "data": {
      "text/plain": [
       "(array([ 0.,  0.,  0.,  0.,  0.,  0.,  0.,  1.,  1.,  1.,  3.,  3.,  3.,\n",
       "         0.,  3., 13., 10., 18., 39., 36., 35., 20., 34., 40., 56., 29.,\n",
       "        57., 65., 49., 70., 63., 43.,  0.,  0.,  0.,  0.,  0.,  0.,  0.,\n",
       "         0.,  0.,  0.,  0.,  0.,  0.,  0.,  0.,  0.,  0., 29.]),\n",
       " array([0.  , 0.02, 0.04, 0.06, 0.08, 0.1 , 0.12, 0.14, 0.16, 0.18, 0.2 ,\n",
       "        0.22, 0.24, 0.26, 0.28, 0.3 , 0.32, 0.34, 0.36, 0.38, 0.4 , 0.42,\n",
       "        0.44, 0.46, 0.48, 0.5 , 0.52, 0.54, 0.56, 0.58, 0.6 , 0.62, 0.64,\n",
       "        0.66, 0.68, 0.7 , 0.72, 0.74, 0.76, 0.78, 0.8 , 0.82, 0.84, 0.86,\n",
       "        0.88, 0.9 , 0.92, 0.94, 0.96, 0.98, 1.  ]),\n",
       " <BarContainer object of 50 artists>)"
      ]
     },
     "execution_count": 70,
     "metadata": {},
     "output_type": "execute_result"
    },
    {
     "data": {
      "image/png": "[encoded data removed]",
      "text/plain": [
       "<Figure size 640x480 with 1 Axes>"
      ]
     },
     "metadata": {},
     "output_type": "display_data"
    }
   ],
   "source": [
    "plt.hist(auto_cldmsink_b_cloud_norm[10, :].flatten(), bins = 50, range = (0, 1))"
   ]
  },
  {
   "cell_type": "code",
   "execution_count": 40,
   "metadata": {},
   "outputs": [
    {
     "name": "stdout",
     "output_type": "stream",
     "text": [
      "<xarray.DataArray 'auto_cldmsink_b_cloud' ()> Size: 8B\n",
      "array(-31.64996983)\n"
     ]
    },
    {
     "name": "stderr",
     "output_type": "stream",
     "text": [
      "/Users/HP/Documents/GitHub/Machine-Learning-Cloud-Microphysics/CloudML/lib/python3.11/site-packages/xarray/core/computation.py:821: RuntimeWarning: divide by zero encountered in log\n",
      "  result_data = func(*input_data)\n"
     ]
    }
   ],
   "source": [
    "print(np.max(np.log(auto_cldmsink_b_cloud)))"
   ]
  },
  {
   "cell_type": "markdown",
   "metadata": {},
   "source": [
    "Much more responsive to log, nicer looking distribution\n"
   ]
  }
 ],
 "metadata": {
  "kernelspec": {
   "display_name": "Python 3",
   "language": "python",
   "name": "python3"
  },
  "language_info": {
   "codemirror_mode": {
    "name": "ipython",
    "version": 3
   },
   "file_extension": ".py",
   "mimetype": "text/x-python",
   "name": "python",
   "nbconvert_exporter": "python",
   "pygments_lexer": "ipython3",
   "version": "3.11.5"
  },
  "orig_nbformat": 4
 },
 "nbformat": 4,
 "nbformat_minor": 2
}
